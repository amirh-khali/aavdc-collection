{
 "cells": [
  {
   "cell_type": "code",
   "execution_count": null,
   "metadata": {
    "colab": {
     "base_uri": "https://localhost:8080/"
    },
    "id": "JcI8BkIWDWdC",
    "outputId": "88f78f51-66c5-420f-d5bc-b366eddff967"
   },
   "outputs": [
    {
     "output_type": "stream",
     "name": "stdout",
     "text": [
      "Mounted at /content/drive\n"
     ]
    }
   ],
   "source": [
    "# mount your Google Drive\n",
    "from google.colab import drive\n",
    "drive.mount(\"/content/drive\")\n",
    "\n",
    "base_dir = './data'"
   ]
  },
  {
   "cell_type": "markdown",
   "metadata": {
    "id": "jF_LoUR6xB0D"
   },
   "source": [
    "## Try to crawl instructional videos (starts with how to ...) from youtube"
   ]
  },
  {
   "cell_type": "code",
   "execution_count": null,
   "metadata": {
    "id": "drX3i2tasZQZ"
   },
   "outputs": [],
   "source": [
    "!pip install youtube-search-python\n",
    "!pip install yt_dlp\n",
    "!pip install youtube-transcript-api\n",
    "!pip install webvtt-py"
   ]
  },
  {
   "cell_type": "code",
   "execution_count": null,
   "metadata": {
    "id": "gKyaLk0TIiLn"
   },
   "outputs": [],
   "source": [
    "import googleapiclient.discovery\n",
    "import pandas as pd\n",
    "import re\n",
    "import webvtt\n",
    "import os"
   ]
  },
  {
   "cell_type": "code",
   "execution_count": null,
   "metadata": {
    "id": "iLiUITdtIhSQ"
   },
   "outputs": [],
   "source": [
    "api_key = \"XXX\"\n",
    "keyword = \"how to make\"\n",
    "\n",
    "youtube = googleapiclient.discovery.build(\"youtube\", \"v3\", developerKey=api_key)\n",
    "request = youtube.search().list(q=keyword, part=\"snippet\", type=\"video\", maxResults=50, videoCaption=\"closedCaption\", videoSyndicated=\"true\")"
   ]
  },
  {
   "cell_type": "code",
   "execution_count": null,
   "metadata": {
    "id": "x6awaXKdIsZL"
   },
   "outputs": [],
   "source": [
    "def duration_iso8601_to_mmss(duration_iso8601):\n",
    "    hours = re.search('(\\d+)H', duration_iso8601)\n",
    "    minutes = re.search('(\\d+)M', duration_iso8601)\n",
    "    seconds = re.search('(\\d+)S', duration_iso8601)\n",
    "\n",
    "    hours = int(hours.group(1)) if hours else 0\n",
    "    minutes = int(minutes.group(1)) if minutes else 0\n",
    "    seconds = int(seconds.group(1)) if seconds else 0\n",
    "\n",
    "    total_seconds = hours * 3600 + minutes * 60 + seconds\n",
    "    duration_mmss = \"{:02}:{:02}\".format(total_seconds // 60, total_seconds % 60)\n",
    "    return duration_mmss"
   ]
  },
  {
   "cell_type": "code",
   "execution_count": null,
   "metadata": {
    "colab": {
     "base_uri": "https://localhost:8080/"
    },
    "id": "C75cjxgNFSfy",
    "outputId": "4fec67ba-371b-4e20-8db9-0f6c77e8dee7"
   },
   "outputs": [
    {
     "name": "stdout",
     "output_type": "stream",
     "text": [
      "07:49 How To Make a Paper Ninja Star (Shuriken) - Origami https://www.youtube.com/watch?v=ktLR-WjB_C8\n",
      "08:11 How to make ONLY PAPER diy MINI NOTEBOOK. Easy origami notebook no glue no scissors. https://www.youtube.com/watch?v=KQxBvI4Nt10\n",
      "10:15 How To Make Yourself FLOAT! https://www.youtube.com/watch?v=f7r6PeUjNEE\n",
      "07:16 How To Make Birria Tacos https://www.youtube.com/watch?v=gCSEXjm6B-Y\n",
      "04:23 The 7 Things You Can Do to Make a Relationship Work https://www.youtube.com/watch?v=hjyuzRwMK1M\n",
      "05:00 Chili Recipe - How to Make Homemade Chili https://www.youtube.com/watch?v=9g-gMkV5vL4\n",
      "12:04 How To Make Hello Kitty House With Rainbow Slide Pool From Cardboard ❤️ DIY Miniature House #5 https://www.youtube.com/watch?v=kZwJRamGjWs\n",
      "02:10 How to Make Meatballs https://www.youtube.com/watch?v=6ViUx0xui8Q\n",
      "05:54 How To Make Sugar Rockets https://www.youtube.com/watch?v=12fR9neVnS8\n",
      "05:15 How to Make Magnetic Slime - Science Experiment https://www.youtube.com/watch?v=bZ1WmeKir78\n",
      "20:22 How to make a Log Cabin Quilt Block from a Jelly Roll https://www.youtube.com/watch?v=9YvaxKPlifw\n",
      "03:57 How to Make Hummus That&#39;s Better Than Store-Bought - Easy Hummus Recipe - Updated https://www.youtube.com/watch?v=EtU2f0qrGrY\n",
      "40:19 How to Make a 2 in 1 Leather Bag | LUNA bag PDF Pattern https://www.youtube.com/watch?v=JJG_KUN2FBQ\n",
      "05:47 Classic Vanilla Cake Recipe | How to Make Birthday Cake https://www.youtube.com/watch?v=qtlhdIfojmc\n",
      "07:58 How to Make Champagne Jellies — The Victorian Way https://www.youtube.com/watch?v=Yjs50ak61f4\n",
      "05:54 How To Make The Best French Toast https://www.youtube.com/watch?v=QkF7lptTLFs\n",
      "04:02 Buttercream Icing Recipe / How to Make Perfect Buttercream Frosting https://www.youtube.com/watch?v=ZD8v-gW4bjY\n",
      "08:34 How to Make a Bow with Wired Ribbon - 5 EASY ways https://www.youtube.com/watch?v=K4prh8tGs0I\n",
      "10:24 How To Make FANTAstic Bubble Machine https://www.youtube.com/watch?v=2IjP9Eo237c\n",
      "02:22 How to Make Perfect Cilantro Lime Rice https://www.youtube.com/watch?v=yn_aBONhbJ0\n",
      "14:39 Finding the Right Real Estate Investment Property: How to Make the Right Decisions https://www.youtube.com/watch?v=IkfBCFWLRZk\n",
      "04:48 Professional Baker Teaches You How To Make PUFF PASTRY! https://www.youtube.com/watch?v=g-dF_j3AVTw\n",
      "02:22 How to Make Simple French Toast | Allrecipes.com https://www.youtube.com/watch?v=vPrtNzvDS5M\n",
      "04:39 How To Make Bread | Jamie Oliver - AD https://www.youtube.com/watch?v=VrUdtzXquWk\n",
      "03:25 How to Make Perfect Homemade Waffles https://www.youtube.com/watch?v=lypGLHSpWa0\n",
      "04:55 GTA 5  - How to Make $2.1 Billion https://www.youtube.com/watch?v=diKCeQAt13I\n",
      "06:16 How to Make Potato Soup https://www.youtube.com/watch?v=jHq0RXIjAfk\n",
      "09:53 How to Make Stop Motion Videos https://www.youtube.com/watch?v=_ppedXZHhE0\n",
      "03:01 How To Make Paneer At Home | पनीर कैसे बनाये घर पे | Kunal Kapur Malai Paneer Cottage Cheese Recipe https://www.youtube.com/watch?v=2pVAobLK_4Q\n",
      "05:04 How to Make Perfect Porridge - 5 Ways | Jamie Oliver https://www.youtube.com/watch?v=ywkEGKXk2cQ\n",
      "22:31 How To Make Every Sushi | Method Mastery | Epicurious https://www.youtube.com/watch?v=ZzLPUoetSHw\n",
      "31:17 How to Make Miniature McDonalds Cardboard House Car Style from Paper Crafts ❤️ DIY Miniature House https://www.youtube.com/watch?v=Iiwr_OdkILo\n",
      "10:14 How To Make Classic LEMON BARS - Easy Recipe https://www.youtube.com/watch?v=JnT0hSGik1A\n",
      "03:22 How to Make Homemade Lemonade Using Real Lemons https://www.youtube.com/watch?v=5_sHXJC9ocA\n",
      "12:15 Turning Coal into Diamonds, using Peanut Butter! TKOR On How To Make Peanut Butter Coal Crystals https://www.youtube.com/watch?v=737r0mRf0hY\n",
      "06:41 How to Make Silky Chocolate Ganache https://www.youtube.com/watch?v=nWbbDT8oPG8\n",
      "12:54 Learn How To Make Your Art POP By Copying Mika Pikazo https://www.youtube.com/watch?v=AM69kS7y6Jc\n",
      "03:14 How to Make Falafel | Falafel Recipe https://www.youtube.com/watch?v=NZcWedPKysk\n",
      "06:44 How To Make The Crispiest Baked Buffalo Chicken Wings | Delish Insanely Easy https://www.youtube.com/watch?v=ze39mtufeNE\n",
      "06:29 Worm Composting: How to Make a Wormery https://www.youtube.com/watch?v=7Mqb5vicCOc\n",
      "02:46 How to Make a Latte (Caffe Latte) | Perfect Coffee https://www.youtube.com/watch?v=UxwscVIZ8Qg\n",
      "07:12 HOW TO MAKE OATMEAL | the BEST oatmeal recipe https://www.youtube.com/watch?v=ws1YdzsAKOw\n",
      "03:35 HOW TO MAKE ALMOND MILK | dairy-free, vegan nut milk recipe https://www.youtube.com/watch?v=TQtRv-wdaJU\n",
      "13:41 5 Ways To Make More Money (Without Raising Prices Or Finding New Clients) https://www.youtube.com/watch?v=qmrIPAzfWFo\n",
      "04:45 How to make a mummy - Len Bloch https://www.youtube.com/watch?v=9gD0K7oH92U\n",
      "08:56 How To Make A Sourdough Starter From Scratch •  Tasty https://www.youtube.com/watch?v=kbw7lDO_kuY\n",
      "06:15 Healthy Snacks! How To Make Recipes from Butterbean&#39;s Café 🍎 | Butterbean’s Café | Nick Jr. https://www.youtube.com/watch?v=pVhIe0cBKDQ\n",
      "08:58 How to make Bagels | Jamie Oliver https://www.youtube.com/watch?v=1852bo8l6JE\n",
      "12:49 How To Make Lu Rou Fan, Taiwanese Pork Over Rice https://www.youtube.com/watch?v=ASetzk1FhBE\n",
      "08:21 How to Make Cake Pops | Easy Homemade Cake Pop Recipe https://www.youtube.com/watch?v=afz-uBP4xBg\n",
      "08:58 How to make Bagels | Jamie Oliver https://www.youtube.com/watch?v=1852bo8l6JE\n",
      "12:49 How To Make Lu Rou Fan, Taiwanese Pork Over Rice https://www.youtube.com/watch?v=ASetzk1FhBE\n",
      "08:21 How to Make Cake Pops | Easy Homemade Cake Pop Recipe https://www.youtube.com/watch?v=afz-uBP4xBg\n",
      "01:09 How to Make Elephant Toothpaste: Conduct Your Own Experiment https://www.youtube.com/watch?v=I3-hGx6PEMM\n",
      "04:29 How to Make Ninja Stress Balls! https://www.youtube.com/watch?v=SyfxIryiD8A\n",
      "14:56 How to Make SPAGHETTI CARBONARA (Approved by Romans) https://www.youtube.com/watch?v=AvO8UPbIH30\n",
      "02:44 How to Make Play Dough - Easy No Cook Recipe! | Sea Lemon https://www.youtube.com/watch?v=oAIAm6BF0fs\n",
      "08:50 How to Make a PERFECT POM POM Every Time https://www.youtube.com/watch?v=zok9hqyhTQ4\n",
      "02:02 How to Make the Most Flavorful Beef Salad That Will Blow Your Mind! https://www.youtube.com/watch?v=CTGjTAmGJFY\n",
      "10:52 How to make Easy Kimchi (막김치) https://www.youtube.com/watch?v=0sX_wDCbeuU\n",
      "04:49 How to Make Coconut Oil in Your Home | Flo Chinyere https://www.youtube.com/watch?v=h95fAV-SdDQ\n",
      "14:29 How to make stress your friend | Kelly McGonigal https://www.youtube.com/watch?v=RcGyVTAoXEU\n",
      "08:32 How To Make Italian PASTA SALAD with Homemade ITALIAN DRESSING https://www.youtube.com/watch?v=21rgi2Imq14\n",
      "24:20 5 Giant DIY Foods Challenge &amp; How To Make The Best Avengers Endgame Pancake Art in 24 Hours https://www.youtube.com/watch?v=wnBYo8ecbnA\n",
      "08:03 How to Make Pita Bread https://www.youtube.com/watch?v=Wrdga8SqUFA\n",
      "14:42 How to make hard choices | Ruth Chang https://www.youtube.com/watch?v=8GQZuzIdeQQ\n",
      "07:37 How to Make a Character Designer in Scratch | Tutorial https://www.youtube.com/watch?v=-3oCdNIeU_8\n",
      "06:04 A TRICK EVERYONE SHOULD KNOW | How to make any stainless steel pan non-stick | THE MERCURY BALL TEST https://www.youtube.com/watch?v=w3laDpr4kvw\n",
      "11:53 How to make Soft Flour Tortillas | Como Hacer Tortillas de Harina https://www.youtube.com/watch?v=5W-KWRcC7DE\n",
      "08:18 20 Smart Ideas How to Make Small Bedroom Look Bigger https://www.youtube.com/watch?v=ZqtwRXaj3Eg\n",
      "08:47 How to Make The Best Fried Chicken https://www.youtube.com/watch?v=vkpEOKQFMVg\n",
      "11:00 How to make a secret door / bookcase | I Like To Make Stuff https://www.youtube.com/watch?v=V3NGBo2M1Ps\n",
      "02:14 Easy Three-Ingredient Tomato Soup Recipe - How to Make Homemade Tomato Soup https://www.youtube.com/watch?v=X_lZ49spG5A\n",
      "11:28 KARIN DOLMA: Traditional Turkish Food - And How To Make It (Outdoor Cooking) https://www.youtube.com/watch?v=RgYhgNWLqtY\n",
      "06:47 How To Make Focaccia | Jamie &amp; Gennaro https://www.youtube.com/watch?v=UX6K-Z67vI4\n",
      "06:36 Chocolate Cake Recipe | How to Make Chocolate Cake https://www.youtube.com/watch?v=2XBvw_Ty-C0\n",
      "21:06 How to make a HEALTH BAR in Unity! https://www.youtube.com/watch?v=BLfNP4Sc_iA\n",
      "07:05 How To Make The Mini Metal Foundry https://www.youtube.com/watch?v=hHD10DjxM1g\n",
      "11:16 How To Create A YouTube Channel! (2023 Beginner&#39;s Guide) https://www.youtube.com/watch?v=wUBAjWqwAd0\n",
      "12:09 Why You Are Lonely and How to Make Friends https://www.youtube.com/watch?v=I9hJ_Rux9y0\n",
      "06:48 How to Make a Kurzgesagt Video in 1200 Hours https://www.youtube.com/watch?v=uFk0mgljtns\n",
      "00:44 🔮쿠로미 테이프풍선 만드는 방법!🖤#shorts https://www.youtube.com/watch?v=zboZ-0VFRx4\n",
      "07:07 How To Make Tteokbokki + Rice Cake [Easy Recipe] Korean Food https://www.youtube.com/watch?v=UxpWM7ISoUM\n",
      "08:35 Crispy Punjabi Samosa | हलवाई जैसे crispy समोसे घर पर | How to make Samosas | Chef Ranveer Brar https://www.youtube.com/watch?v=EKPAfUCn_Jo\n",
      "04:09 How to Make Baked Eggplant Parmesan | The Stay At Home Chef https://www.youtube.com/watch?v=rLZsKI8dcvo\n",
      "13:24 토토로 디오라마 만들기 _ How to make TOTORO Diorama with clay https://www.youtube.com/watch?v=9Xy6snLviK4\n",
      "09:26 HOW TO MAKE CHIA PUDDING ‣‣ 6 Amazing Chia Pudding Recipes https://www.youtube.com/watch?v=6Ig3Rm1YLRo\n",
      "06:53 How to Make Crepes - Easy Crepe Recipe https://www.youtube.com/watch?v=SpSrBGnjurA\n",
      "11:26 How to make a Video Game in Unity - BASICS (E01) https://www.youtube.com/watch?v=IlKaB1etrik\n",
      "32:22 How To Make Every Pasta | Method Mastery | Epicurious https://www.youtube.com/watch?v=U8tam5js86I\n",
      "09:08 How to Make a Story in Scratch | Tutorial https://www.youtube.com/watch?v=uv8mbL-MC58\n",
      "26:05 Making Giant Sour Candy!! How To Make The World’s Largest DIY Real vs Gummy Food At Home Challenge https://www.youtube.com/watch?v=7aYS6Sbf0TA\n",
      "03:34 How to Make a Latte Art Heart | Perfect Coffee https://www.youtube.com/watch?v=i4xTz_OwlSQ\n",
      "24:05 How to MAKE YOUR OWN ACTION FIGURE! (Using NON-DESTRUCTIVE vintage toy sampling!) https://www.youtube.com/watch?v=LlFIZitLxT8\n",
      "24:03 How to Make No-Regret Decisions During a Crisis | The Agenda https://www.youtube.com/watch?v=xyYZttLDL5E\n",
      "13:02 How To Make Sprite From PINE NEEDLES | Pine Needle Soda https://www.youtube.com/watch?v=8ofte5yoVFs\n",
      "13:05 How to Make Instagram Reels Like a PRO! https://www.youtube.com/watch?v=kdfau9slFIE\n",
      "04:16 How To Make Slow Roasted Pork Belly | Gordon Ramsay https://www.youtube.com/watch?v=9biIOtEYeHc\n",
      "10:31 How to Make and Sell an NFT (Crypto Art Tutorial) https://www.youtube.com/watch?v=Gjo1hlIey9g\n",
      "09:17 How to Make YouTube Videos – Plan, Shoot, Edit, Post, Grow https://www.youtube.com/watch?v=5Kb3mlUwwL0\n",
      "06:27 HOW TO MAKE THE BEST FRUIT SALAD | easy recipe https://www.youtube.com/watch?v=Zp-F68Fa-ps\n",
      "05:53 How To Make 3 EASY Lego Guns !! (part 3) https://www.youtube.com/watch?v=_99pY5GuMSE\n",
      "14:02 How to make a Wooden Katana from hardwood flooring // Woodworking | I Like To Make Stuff https://www.youtube.com/watch?v=2nshBD9EbxE\n",
      "11:22 How to Make Best Sugar from Sugar Cane? https://www.youtube.com/watch?v=9iqG6VDoRPQ\n",
      "09:29 How to Make Matty Matheson&#39;s &quot;Guaranteed To Get You Laid&quot; Lasagna https://www.youtube.com/watch?v=VZPkIPfnzqs\n",
      "04:26 How to Make Perfect Poached Eggs - 3 Ways | Jamie Oliver https://www.youtube.com/watch?v=pAWduxoCgVk\n",
      "03:16 How to Make The Best Tuna Casserole | The Stay At Home Chef https://www.youtube.com/watch?v=Z2gbULH7tdI\n",
      "08:09 How to Make Butter – The Victorian Way https://www.youtube.com/watch?v=DV7hop4m0YQ\n",
      "08:04 How to make the perfect dessert in 5 minutes! You will buy all the puff pastry from the store https://www.youtube.com/watch?v=EdaXIAt6YDE\n",
      "05:35 Shepherd&#39;s Pie Recipe | How to Make Perfect Shepherd&#39;s Pie https://www.youtube.com/watch?v=a3EYQARJkLk\n",
      "10:31 How To Make Spicy Ethiopian Chicken Stew: Doro Wat https://www.youtube.com/watch?v=zi4AT6uYKUs\n",
      "05:55 How To Make Flour Tortillas - SO SOFT!  😋 https://www.youtube.com/watch?v=n8vei8M3QjM\n",
      "03:00 French Omelette Recipe | How to Make French Omelet https://www.youtube.com/watch?v=EoufLVAAPSU\n",
      "11:36 How to Make Lo Mein with Jet Tila | Ready Jet Cook With Jet Tila | Food Network https://www.youtube.com/watch?v=SFeChtLaHy4\n",
      "03:31 How to make Moist Chocolate Cake Recipe| Ultimate&amp; Easy Chocolate Cake Recipe| Chocolate sponge cake https://www.youtube.com/watch?v=v21RJV9__Dw\n",
      "02:10 How to Make Breadcrumbs https://www.youtube.com/watch?v=EBgY0wn0m1o\n",
      "02:01 How to Make Scrambled Eggs | Best Scrambled Eggs Recipe https://www.youtube.com/watch?v=XXHk92_MeZo\n",
      "10:11 How To Make Pure Aloe Vera Gel &amp; Store it For Months With No Preservatives | DIY https://www.youtube.com/watch?v=rXodK5gMzXs\n",
      "06:57 How To Make Spaghetti and Meatballs Recipe | Homemade Marinara Sauce https://www.youtube.com/watch?v=YyCRnAZ4eCc\n",
      "07:07 How to Make Whipped Cream and Whipped Cream Frosting! https://www.youtube.com/watch?v=I-JWui4xvE4\n",
      "22:48 How To Make Fiberglass Fender Molds. Part 2 of 2.  Sta-GTR build: Part 9 https://www.youtube.com/watch?v=yuVzmaGMFKE\n",
      "15:53 How to Make Pie Crust https://www.youtube.com/watch?v=3_a4o30fTbA\n",
      "03:40 How To Make Scones | Jamie Oliver | AD https://www.youtube.com/watch?v=BVNhJXa5W74\n",
      "12:58 How To Make Sourdough For Beginners • Tasty https://www.youtube.com/watch?v=rkoLmraD79A\n",
      "05:24 How to  Make Papaya Atchara (Pickled Papaya) https://www.youtube.com/watch?v=RNqYAuZttws\n",
      "08:50 How to Make a Hearty Transylvanian Goulash https://www.youtube.com/watch?v=HHIX6iEJ1ZU\n",
      "03:48 How to Make a Girl Smile https://www.youtube.com/watch?v=EyofqsBQS5I\n",
      "19:09 How to Make Handmade Candy With Panda Design | Où se trouve: CandyLabs https://www.youtube.com/watch?v=8-3Xe7RMg3w\n",
      "20:49 How to Create Pivot Tables in Excel https://www.youtube.com/watch?v=PdJzy956wo4\n",
      "04:42 How to House: How to Make a Bed Like a Hotel | HGTV https://www.youtube.com/watch?v=Du0M6yVjKlA\n",
      "11:35 How to Make Cake Pops | SO Easy and Delicious! https://www.youtube.com/watch?v=fYuLzUeDE-Y\n",
      "07:34 HOW TO MAKE A DISNEY PRINCESS SISTERS CAKE - NERDY NUMMIES https://www.youtube.com/watch?v=q53HUAKB9oU\n",
      "04:24 How To Make Round Tissue Paper Flower - DIY Paper Craft https://www.youtube.com/watch?v=K59404x4D5w\n",
      "05:26 How to make Pancakes | Fluffy Pancake Recipe https://www.youtube.com/watch?v=FLd00Bx4tOk\n",
      "03:20 Macaroni and Cheese Recipe | How to Make Mac and Cheese https://www.youtube.com/watch?v=YxVZuuxxXxk\n",
      "08:32 How to Make Popping Boba: The Science of Spherification https://www.youtube.com/watch?v=74RnO_wHX7k\n",
      "08:53 How To Make The Crispiest Fried Chicken You&#39;ll Ever Eat • Tasty https://www.youtube.com/watch?v=hOTihLk4pfg\n",
      "03:31 How to Make Banana Banana Bread | Allrecipes.com https://www.youtube.com/watch?v=0W9lXaHcXL4\n",
      "13:51 How to make gimbap (aka kimbap: 김밥) https://www.youtube.com/watch?v=Y-Y9CXGRJPU\n",
      "06:12 How to make a Paper Airplane - World’s Best Paper Plane that Flies Far | Papierflieger falten https://www.youtube.com/watch?v=12UJvz0f-8k\n",
      "09:03 How to Make Tres Leches Cake https://www.youtube.com/watch?v=u9f2iIOWnbg\n",
      "02:49 How To Make A Playlist On YouTube (2022) https://www.youtube.com/watch?v=lnyZv9Vslts\n",
      "07:28 How To Make The Ultimate Lasagna https://www.youtube.com/watch?v=qEowX-vOb4E\n",
      "11:05 How to make a Bonsai tree https://www.youtube.com/watch?v=vihWettcK_c\n",
      "07:06 ICONIC Mulligatawny Veg Soup Recipe | How To Make Soup in Pressure Cooker | Healthy  Soup at Home https://www.youtube.com/watch?v=TljuzkPcT_Q\n",
      "03:22 How to Make a Lemon Battery https://www.youtube.com/watch?v=GhbuhT1GDpI\n",
      "07:15 How To Make Sushi with Iron Chef Morimoto https://www.youtube.com/watch?v=EGeNKGosXA8\n",
      "04:31 How to Make Cauliflower Rice https://www.youtube.com/watch?v=egKk_-xFq0M\n",
      "11:42 How To Make Kung Pao Chicken With Steven Chu https://www.youtube.com/watch?v=_QWXjebXiWk\n",
      "01:41 How to Make Margherita Pizza at Home | Gordon Ramsay https://www.youtube.com/watch?v=vcfNpDtVqOw\n",
      "16:11 How to Make an App for Beginners (2020) - Lesson 1 https://www.youtube.com/watch?v=jniJeamcIUU\n",
      "08:52 How to make an Phonk beat using BandLab&#39;s free web Mix Editor (BandLab Tutorial) https://www.youtube.com/watch?v=72MFqM5iQ0Y\n",
      "00:55 How to make laser security alaram #shorts https://www.youtube.com/watch?v=vWWeDBgBrvo\n",
      "00:50 How to Twist Fabric to Make a Rope Rug https://www.youtube.com/watch?v=SnBo_DLszDo\n",
      "05:47 How to make Jamie’s Lasagne | Jamie Oliver https://www.youtube.com/watch?v=GK7GObLUCWU\n",
      "10:47 How to Make 5 SIMPLE Animations in AFTER EFFECTS CC https://www.youtube.com/watch?v=Ztwm0OTPqyI\n",
      "00:44 🔮쿠로미 테이프풍선 만드는 방법!🖤#shorts https://www.youtube.com/watch?v=zboZ-0VFRx4\n",
      "03:07 Lollipops Recipe - How to Make Homemade Lollipops https://www.youtube.com/watch?v=rthHkjuKapk\n",
      "06:21 How to make macarons at home | Easy Egg yolk buttercream filling(Sub) https://www.youtube.com/watch?v=gMTZCXmLbXk\n",
      "16:09 How To Make Sourdough Bread Masterclass https://www.youtube.com/watch?v=2FVfJTGpXnU\n",
      "07:24 The Best Way To Make French Fries At Home (Restaurant-Quality) | Epicurious https://www.youtube.com/watch?v=I-mWa_GqIEg\n",
      "08:07 How To Make Spanish Paella | Omar Allibhoy https://www.youtube.com/watch?v=L_dDUw_QuDU\n",
      "05:07 How to make your writing funnier - Cheri Steinkellner https://www.youtube.com/watch?v=zNTxSBgDNp4\n",
      "15:03 How To Make Greeting Cards with Cricut https://www.youtube.com/watch?v=VUTB89wHXk8\n",
      "05:41 How to make Bunk beds https://www.youtube.com/watch?v=asZy0l7PbYM\n",
      "14:28 How to make a 2D Game in Unity https://www.youtube.com/watch?v=on9nwbZngyw\n",
      "04:19 How To Make BBQ Sauce 3 Ways https://www.youtube.com/watch?v=uEddBGAGPi0\n",
      "12:26 How to build a Ford F-150 Lightning? - Full Factory Tour! https://www.youtube.com/watch?v=T8Jlod53BCU\n",
      "04:19 How to Make the Best Waffles! https://www.youtube.com/watch?v=iR64hfkGQeU\n",
      "06:17 How to Make Authentic Falafel from The Mediterranean Dish https://www.youtube.com/watch?v=ff3IjiYs7K4\n",
      "09:01 How to Make YouTube Videos Without Showing Your Face (Faceless Video Ideas!) https://www.youtube.com/watch?v=OzMYewdNJBA\n",
      "06:02 How to Make Stuffed Shells https://www.youtube.com/watch?v=jnHfDStLP5E\n",
      "05:15 How To Make The Best Nachos Ever | Delish Insanely Easy https://www.youtube.com/watch?v=5RoWxdsF5Wc\n",
      "06:48 How to Make Buttermilk at Home https://www.youtube.com/watch?v=qKU4nynlIgo\n",
      "07:47 How To Make The Best Crispy Hash Browns Recipe https://www.youtube.com/watch?v=FREhiVYnLbA\n",
      "07:48 How To Make Lemon Peel Extract At Home With 2 Ingredients And Store For Over A Year https://www.youtube.com/watch?v=DvAn-ijbdd8\n",
      "05:22 Professional Baker Teaches You How To Make CHOCOLATE CHIP COOKIES! https://www.youtube.com/watch?v=uJwekkbGPns\n",
      "09:46 Humans finally figured out how to make it rain https://www.youtube.com/watch?v=n3sEl4bB3qU\n",
      "12:17 How To Make The Perfect Pie https://www.youtube.com/watch?v=SR4R7GHxU1w\n",
      "39:10 How to Make YouTube Videos on Your Phone START to FINISH! https://www.youtube.com/watch?v=ek53TQ9U35o\n",
      "02:52 How To Make A Minecraft Skin (2022) https://www.youtube.com/watch?v=h4z-4owja-k\n",
      "10:43 How to make Crepes | Easy Crepe Recipe https://www.youtube.com/watch?v=uA4KRfE_MNM\n",
      "03:00 How to Make A Sling - First Aid Training - St John Ambulance https://www.youtube.com/watch?v=PwfBGkBXkFA\n",
      "03:05 How to Make a Scrunchie | DIY Scrunchie Tutorial https://www.youtube.com/watch?v=MW1GiQseu8E\n",
      "10:22 RICH vs BROKE FIDGET TOYS || How to Make DIY Trading Fidget Toys | ASMR | Become Popular by 123 GO! https://www.youtube.com/watch?v=77UDwgod9YM\n",
      "06:14 How to Make an Elastic Band Paddle Boat https://www.youtube.com/watch?v=nPg7Ivcm32g\n",
      "17:06 How To Make Women Uncomfortable https://www.youtube.com/watch?v=50hG_azZ7AA\n",
      "12:58 &quot;Japanese&quot; U-Turn and How to Make It? https://www.youtube.com/watch?v=wTtX_SuBSyI\n",
      "17:23 How To Make Money on TikTok in 2023 https://www.youtube.com/watch?v=RkRyMwwVXfU\n",
      "17:08 How to Make Animated Youtube Videos https://www.youtube.com/watch?v=9Uk9PW1_eSo\n",
      "12:54 How to Make a Gantt Chart in Excel https://www.youtube.com/watch?v=un8j6QqpYa0\n",
      "05:10 How-To Make Kombucha https://www.youtube.com/watch?v=ZIt1tBGbQec\n",
      "07:58 How to Make Madeleines https://www.youtube.com/watch?v=f2wuhcWnk-k\n",
      "10:24 How to make a basic box. And why you need to know how. | Woodworking BASICS. https://www.youtube.com/watch?v=8vFGrNjT4P4\n",
      "01:54 SCRAMBLED EGGS - How To Make Perfect Scrambled Eggs for Breakfast https://www.youtube.com/watch?v=yyi55ZrpJ0E\n",
      "21:45 How to Make Egg Pasta (an in-depth guide) https://www.youtube.com/watch?v=m_fu5RaXMVk\n",
      "07:21 Red Velvet Cake Recipe | How to Make Red Velvet Cake https://www.youtube.com/watch?v=vGE-RfP6KRE\n",
      "08:24 How to Make Italian BRUSCHETTA - Easy Appetizer https://www.youtube.com/watch?v=Q3xg35pcLyo\n",
      "11:12 How To Make No filter Nano Shrimp Tank! | Step-by-step tutorial https://www.youtube.com/watch?v=X9vjsM6w8AI\n",
      "17:17 How to Make 5 Handmade Chocolates | Handcrafted | Bon Appétit https://www.youtube.com/watch?v=JgzkfO8nYKo\n"
     ]
    }
   ],
   "source": [
    "response = request.execute()\n",
    "df = pd.DataFrame(columns=[\"name\", \"url\", \"duration\", \"id\"])\n",
    "count = 0\n",
    "while count < 200 and request is not None:\n",
    "    video_ids = [item[\"id\"][\"videoId\"] for item in response[\"items\"]]\n",
    "\n",
    "    details_request = youtube.videos().list(id=\",\".join(video_ids), part=\"contentDetails\")\n",
    "    details_response = details_request.execute()\n",
    "\n",
    "    for i, item in enumerate(response[\"items\"]):\n",
    "        title = item[\"snippet\"][\"title\"]\n",
    "        video_id = item[\"id\"][\"videoId\"]\n",
    "        url = \"https://www.youtube.com/watch?v=\" + video_id\n",
    "\n",
    "        duration_iso8601 = details_response[\"items\"][i][\"contentDetails\"][\"duration\"]\n",
    "        duration = duration_iso8601_to_mmss(duration_iso8601)\n",
    "\n",
    "        print(duration, title, url)\n",
    "\n",
    "        df.loc[count] = [title, url, duration, video_id]\n",
    "\n",
    "        count += 1\n",
    "    request = youtube.search().list_next(request, response)\n",
    "    if request is not None:\n",
    "        response = request.execute()\n",
    "\n",
    "# save the dataframe as a csv file named raw_youtube_videos.csv\n",
    "df.to_csv(\"raw_youtube_videos.csv\", index=False)"
   ]
  },
  {
   "cell_type": "code",
   "execution_count": null,
   "metadata": {
    "colab": {
     "base_uri": "https://localhost:8080/"
    },
    "id": "eo50J44p9I-I",
    "outputId": "b0d26d47-66d3-4f84-ef4d-ca75c184cffd"
   },
   "outputs": [
    {
     "name": "stdout",
     "output_type": "stream",
     "text": [
      "[youtube] Extracting URL: https://www.youtube.com/watch?v=ktLR-WjB_C8\n",
      "[youtube] ktLR-WjB_C8: Downloading webpage\n",
      "[youtube] ktLR-WjB_C8: Downloading android player API JSON\n",
      "[info] ktLR-WjB_C8: Downloading subtitles: en\n",
      "[info] ktLR-WjB_C8: Downloading 1 format(s): 247+251\n",
      "[info] Writing video subtitles to: subs/ktLR-WjB_C8.en.vtt\n",
      "[download] Destination: subs/ktLR-WjB_C8.en.vtt\n",
      "[download] 100% of    1.67KiB in 00:00:00 at 52.45KiB/s\n",
      "[youtube] Extracting URL: https://www.youtube.com/watch?v=KQxBvI4Nt10\n",
      "[youtube] KQxBvI4Nt10: Downloading webpage\n",
      "[youtube] KQxBvI4Nt10: Downloading android player API JSON\n",
      "[youtube] KQxBvI4Nt10: Downloading player 21246a91\n",
      "[info] KQxBvI4Nt10: Downloading subtitles: en\n",
      "[info] KQxBvI4Nt10: Downloading 1 format(s): 315+251\n",
      "[info] Writing video subtitles to: subs/KQxBvI4Nt10.en.vtt\n",
      "[download] Destination: subs/KQxBvI4Nt10.en.vtt\n",
      "[download] 100% of    486.00B in 00:00:00 at 19.63KiB/s\n",
      "[youtube] Extracting URL: https://www.youtube.com/watch?v=f7r6PeUjNEE\n",
      "[youtube] f7r6PeUjNEE: Downloading webpage\n",
      "[youtube] f7r6PeUjNEE: Downloading android player API JSON\n",
      "[info] f7r6PeUjNEE: Downloading subtitles: en\n",
      "[info] f7r6PeUjNEE: Downloading 1 format(s): 303+251\n",
      "[info] Writing video subtitles to: subs/f7r6PeUjNEE.en.vtt\n",
      "[download] Destination: subs/f7r6PeUjNEE.en.vtt\n",
      "[download] 100% of   15.29KiB in 00:00:00 at 430.58KiB/s\n",
      "[youtube] Extracting URL: https://www.youtube.com/watch?v=gCSEXjm6B-Y\n",
      "[youtube] gCSEXjm6B-Y: Downloading webpage\n",
      "[youtube] gCSEXjm6B-Y: Downloading android player API JSON\n",
      "[info] gCSEXjm6B-Y: Downloading subtitles: en\n",
      "[info] gCSEXjm6B-Y: Downloading 1 format(s): 248+251\n",
      "[info] Writing video subtitles to: subs/gCSEXjm6B-Y.en.vtt\n",
      "[download] Destination: subs/gCSEXjm6B-Y.en.vtt\n",
      "[download] 100% of   10.67KiB in 00:00:00 at 368.74KiB/s\n",
      "[youtube] Extracting URL: https://www.youtube.com/watch?v=hjyuzRwMK1M\n",
      "[youtube] hjyuzRwMK1M: Downloading webpage\n",
      "[youtube] hjyuzRwMK1M: Downloading android player API JSON\n",
      "[info] hjyuzRwMK1M: Downloading 1 format(s): 248+251\n",
      "[info] There's no subtitles for the requested languages\n",
      "[youtube] Extracting URL: https://www.youtube.com/watch?v=9g-gMkV5vL4\n",
      "[youtube] 9g-gMkV5vL4: Downloading webpage\n",
      "[youtube] 9g-gMkV5vL4: Downloading android player API JSON\n",
      "[info] 9g-gMkV5vL4: Downloading subtitles: en\n",
      "[info] 9g-gMkV5vL4: Downloading 1 format(s): 248+251\n",
      "[info] Writing video subtitles to: subs/9g-gMkV5vL4.en.vtt\n",
      "[download] Destination: subs/9g-gMkV5vL4.en.vtt\n",
      "[download] 100% of    2.50KiB in 00:00:00 at 98.98KiB/s\n",
      "[youtube] Extracting URL: https://www.youtube.com/watch?v=kZwJRamGjWs\n",
      "[youtube] kZwJRamGjWs: Downloading webpage\n",
      "[youtube] kZwJRamGjWs: Downloading android player API JSON\n",
      "[info] kZwJRamGjWs: Downloading 1 format(s): 313+251\n",
      "[info] There's no subtitles for the requested languages\n",
      "[youtube] Extracting URL: https://www.youtube.com/watch?v=6ViUx0xui8Q\n",
      "[youtube] 6ViUx0xui8Q: Downloading webpage\n",
      "[youtube] 6ViUx0xui8Q: Downloading android player API JSON\n",
      "[info] 6ViUx0xui8Q: Downloading 1 format(s): 247+251\n",
      "[info] There's no subtitles for the requested languages\n",
      "[youtube] Extracting URL: https://www.youtube.com/watch?v=12fR9neVnS8\n",
      "[youtube] 12fR9neVnS8: Downloading webpage\n",
      "[youtube] 12fR9neVnS8: Downloading android player API JSON\n",
      "[info] 12fR9neVnS8: Downloading subtitles: en\n",
      "[info] 12fR9neVnS8: Downloading 1 format(s): 248+251\n",
      "[info] Writing video subtitles to: subs/12fR9neVnS8.en.vtt\n",
      "[download] Destination: subs/12fR9neVnS8.en.vtt\n",
      "[download] 100% of    9.52KiB in 00:00:00 at 274.29KiB/s\n",
      "[youtube] Extracting URL: https://www.youtube.com/watch?v=bZ1WmeKir78\n",
      "[youtube] bZ1WmeKir78: Downloading webpage\n",
      "[youtube] bZ1WmeKir78: Downloading android player API JSON\n",
      "[info] bZ1WmeKir78: Downloading subtitles: en\n",
      "[info] bZ1WmeKir78: Downloading 1 format(s): 248+251\n",
      "[info] Writing video subtitles to: subs/bZ1WmeKir78.en.vtt\n",
      "[download] Destination: subs/bZ1WmeKir78.en.vtt\n",
      "[download] 100% of    3.91KiB in 00:00:00 at 83.45KiB/s\n",
      "[youtube] Extracting URL: https://www.youtube.com/watch?v=9YvaxKPlifw\n",
      "[youtube] 9YvaxKPlifw: Downloading webpage\n",
      "[youtube] 9YvaxKPlifw: Downloading android player API JSON\n",
      "[info] 9YvaxKPlifw: Downloading subtitles: en\n",
      "[info] 9YvaxKPlifw: Downloading 1 format(s): 248+251\n",
      "[info] Writing video subtitles to: subs/9YvaxKPlifw.en.vtt\n",
      "[download] Destination: subs/9YvaxKPlifw.en.vtt\n",
      "[download] 100% of   22.59KiB in 00:00:00 at 326.35KiB/s\n",
      "[youtube] Extracting URL: https://www.youtube.com/watch?v=EtU2f0qrGrY\n",
      "[youtube] EtU2f0qrGrY: Downloading webpage\n",
      "[youtube] EtU2f0qrGrY: Downloading android player API JSON\n",
      "[info] EtU2f0qrGrY: Downloading subtitles: en\n",
      "[info] EtU2f0qrGrY: Downloading 1 format(s): 303+251\n",
      "[info] Writing video subtitles to: subs/EtU2f0qrGrY.en.vtt\n",
      "[download] Destination: subs/EtU2f0qrGrY.en.vtt\n",
      "[download] 100% of    4.52KiB in 00:00:00 at 75.36KiB/s\n",
      "[youtube] Extracting URL: https://www.youtube.com/watch?v=JJG_KUN2FBQ\n",
      "[youtube] JJG_KUN2FBQ: Downloading webpage\n",
      "[youtube] JJG_KUN2FBQ: Downloading android player API JSON\n",
      "[info] JJG_KUN2FBQ: Downloading 1 format(s): 248+251\n",
      "[info] There's no subtitles for the requested languages\n",
      "[youtube] Extracting URL: https://www.youtube.com/watch?v=qtlhdIfojmc\n",
      "[youtube] qtlhdIfojmc: Downloading webpage\n",
      "[youtube] qtlhdIfojmc: Downloading android player API JSON\n",
      "[info] qtlhdIfojmc: Downloading 1 format(s): 248+251\n",
      "[info] There's no subtitles for the requested languages\n",
      "[youtube] Extracting URL: https://www.youtube.com/watch?v=Yjs50ak61f4\n",
      "[youtube] Yjs50ak61f4: Downloading webpage\n",
      "[youtube] Yjs50ak61f4: Downloading android player API JSON\n",
      "[info] Yjs50ak61f4: Downloading 1 format(s): 248+251\n",
      "[info] There's no subtitles for the requested languages\n",
      "[youtube] Extracting URL: https://www.youtube.com/watch?v=QkF7lptTLFs\n",
      "[youtube] QkF7lptTLFs: Downloading webpage\n",
      "[youtube] QkF7lptTLFs: Downloading android player API JSON\n",
      "[info] QkF7lptTLFs: Downloading subtitles: en\n",
      "[info] QkF7lptTLFs: Downloading 1 format(s): 248+251\n",
      "[info] Writing video subtitles to: subs/QkF7lptTLFs.en.vtt\n",
      "[download] Destination: subs/QkF7lptTLFs.en.vtt\n",
      "[download] 100% of   11.44KiB in 00:00:00 at 312.66KiB/s\n",
      "[youtube] Extracting URL: https://www.youtube.com/watch?v=ZD8v-gW4bjY\n",
      "[youtube] ZD8v-gW4bjY: Downloading webpage\n",
      "[youtube] ZD8v-gW4bjY: Downloading android player API JSON\n",
      "[info] ZD8v-gW4bjY: Downloading subtitles: en\n",
      "[info] ZD8v-gW4bjY: Downloading 1 format(s): 248+251\n",
      "[info] Writing video subtitles to: subs/ZD8v-gW4bjY.en.vtt\n",
      "[download] Destination: subs/ZD8v-gW4bjY.en.vtt\n",
      "[download] 100% of    4.16KiB in 00:00:00 at 99.57KiB/s\n",
      "[youtube] Extracting URL: https://www.youtube.com/watch?v=K4prh8tGs0I\n",
      "[youtube] K4prh8tGs0I: Downloading webpage\n",
      "[youtube] K4prh8tGs0I: Downloading android player API JSON\n",
      "[info] K4prh8tGs0I: Downloading 1 format(s): 247+251\n",
      "[info] There's no subtitles for the requested languages\n",
      "[youtube] Extracting URL: https://www.youtube.com/watch?v=2IjP9Eo237c\n",
      "[youtube] 2IjP9Eo237c: Downloading webpage\n",
      "[youtube] 2IjP9Eo237c: Downloading android player API JSON\n",
      "[info] 2IjP9Eo237c: Downloading subtitles: en\n",
      "[info] 2IjP9Eo237c: Downloading 1 format(s): 248+251\n",
      "[info] Writing video subtitles to: subs/2IjP9Eo237c.en.vtt\n",
      "[download] Destination: subs/2IjP9Eo237c.en.vtt\n",
      "[download] 100% of   10.38KiB in 00:00:00 at 283.96KiB/s\n",
      "[youtube] Extracting URL: https://www.youtube.com/watch?v=yn_aBONhbJ0\n",
      "[youtube] yn_aBONhbJ0: Downloading webpage\n",
      "[youtube] yn_aBONhbJ0: Downloading android player API JSON\n",
      "[info] yn_aBONhbJ0: Downloading subtitles: en\n",
      "[info] yn_aBONhbJ0: Downloading 1 format(s): 303+251\n",
      "[info] Writing video subtitles to: subs/yn_aBONhbJ0.en.vtt\n",
      "[download] Destination: subs/yn_aBONhbJ0.en.vtt\n",
      "[download] 100% of    2.69KiB in 00:00:00 at 74.15KiB/s\n",
      "[youtube] Extracting URL: https://www.youtube.com/watch?v=IkfBCFWLRZk\n",
      "[youtube] IkfBCFWLRZk: Downloading webpage\n",
      "[youtube] IkfBCFWLRZk: Downloading android player API JSON\n",
      "[info] IkfBCFWLRZk: Downloading subtitles: en\n",
      "[info] IkfBCFWLRZk: Downloading 1 format(s): 248+251\n",
      "[info] Writing video subtitles to: subs/IkfBCFWLRZk.en.vtt\n",
      "[download] Destination: subs/IkfBCFWLRZk.en.vtt\n",
      "[download] 100% of   25.71KiB in 00:00:00 at 757.58KiB/s\n",
      "[youtube] Extracting URL: https://www.youtube.com/watch?v=g-dF_j3AVTw\n",
      "[youtube] g-dF_j3AVTw: Downloading webpage\n",
      "[youtube] g-dF_j3AVTw: Downloading android player API JSON\n",
      "[info] g-dF_j3AVTw: Downloading 1 format(s): 248+251\n",
      "[info] There's no subtitles for the requested languages\n",
      "[youtube] Extracting URL: https://www.youtube.com/watch?v=vPrtNzvDS5M\n",
      "[youtube] vPrtNzvDS5M: Downloading webpage\n",
      "[youtube] vPrtNzvDS5M: Downloading android player API JSON\n",
      "[info] vPrtNzvDS5M: Downloading subtitles: en\n",
      "[info] vPrtNzvDS5M: Downloading 1 format(s): 247+251\n",
      "[info] Writing video subtitles to: subs/vPrtNzvDS5M.en.vtt\n",
      "[download] Destination: subs/vPrtNzvDS5M.en.vtt\n",
      "[download] 100% of    2.00KiB in 00:00:00 at 64.40KiB/s\n",
      "[youtube] Extracting URL: https://www.youtube.com/watch?v=VrUdtzXquWk\n",
      "[youtube] VrUdtzXquWk: Downloading webpage\n",
      "[youtube] VrUdtzXquWk: Downloading android player API JSON\n",
      "[info] VrUdtzXquWk: Downloading 1 format(s): 248+251\n",
      "[info] There's no subtitles for the requested languages\n",
      "[youtube] Extracting URL: https://www.youtube.com/watch?v=lypGLHSpWa0\n",
      "[youtube] lypGLHSpWa0: Downloading webpage\n",
      "[youtube] lypGLHSpWa0: Downloading android player API JSON\n",
      "[info] lypGLHSpWa0: Downloading subtitles: en\n",
      "[info] lypGLHSpWa0: Downloading 1 format(s): 313+251\n",
      "[info] Writing video subtitles to: subs/lypGLHSpWa0.en.vtt\n",
      "[download] Destination: subs/lypGLHSpWa0.en.vtt\n",
      "[download] 100% of    3.90KiB in 00:00:00 at 137.68KiB/s\n",
      "[youtube] Extracting URL: https://www.youtube.com/watch?v=diKCeQAt13I\n",
      "[youtube] diKCeQAt13I: Downloading webpage\n",
      "[youtube] diKCeQAt13I: Downloading android player API JSON\n",
      "[info] diKCeQAt13I: Downloading subtitles: en\n",
      "[info] diKCeQAt13I: Downloading 1 format(s): 248+251\n",
      "[info] Writing video subtitles to: subs/diKCeQAt13I.en.vtt\n",
      "[download] Destination: subs/diKCeQAt13I.en.vtt\n",
      "[download] 100% of    7.53KiB in 00:00:00 at 161.28KiB/s\n",
      "[youtube] Extracting URL: https://www.youtube.com/watch?v=jHq0RXIjAfk\n",
      "[youtube] jHq0RXIjAfk: Downloading webpage\n",
      "[youtube] jHq0RXIjAfk: Downloading android player API JSON\n",
      "[info] jHq0RXIjAfk: Downloading subtitles: en\n",
      "[info] jHq0RXIjAfk: Downloading 1 format(s): 248+251\n",
      "[info] Writing video subtitles to: subs/jHq0RXIjAfk.en.vtt\n",
      "[download] Destination: subs/jHq0RXIjAfk.en.vtt\n",
      "[download] 100% of    8.62KiB in 00:00:00 at 293.50KiB/s\n",
      "[youtube] Extracting URL: https://www.youtube.com/watch?v=_ppedXZHhE0\n",
      "[youtube] _ppedXZHhE0: Downloading webpage\n",
      "[youtube] _ppedXZHhE0: Downloading android player API JSON\n",
      "[info] _ppedXZHhE0: Downloading subtitles: en\n",
      "[info] _ppedXZHhE0: Downloading 1 format(s): 248+251\n",
      "[info] Writing video subtitles to: subs/_ppedXZHhE0.en.vtt\n",
      "[download] Destination: subs/_ppedXZHhE0.en.vtt\n",
      "[download] 100% of   15.49KiB in 00:00:00 at 312.28KiB/s\n",
      "[youtube] Extracting URL: https://www.youtube.com/watch?v=2pVAobLK_4Q\n",
      "[youtube] 2pVAobLK_4Q: Downloading webpage\n",
      "[youtube] 2pVAobLK_4Q: Downloading android player API JSON\n",
      "[info] 2pVAobLK_4Q: Downloading subtitles: en\n",
      "[info] 2pVAobLK_4Q: Downloading 1 format(s): 248+251\n",
      "[info] Writing video subtitles to: subs/2pVAobLK_4Q.en.vtt\n",
      "[download] Destination: subs/2pVAobLK_4Q.en.vtt\n",
      "[download] 100% of    3.47KiB in 00:00:00 at 80.42KiB/s\n",
      "[youtube] Extracting URL: https://www.youtube.com/watch?v=ywkEGKXk2cQ\n",
      "[youtube] ywkEGKXk2cQ: Downloading webpage\n",
      "[youtube] ywkEGKXk2cQ: Downloading android player API JSON\n",
      "[info] ywkEGKXk2cQ: Downloading 1 format(s): 248+251\n",
      "[info] There's no subtitles for the requested languages\n",
      "[youtube] Extracting URL: https://www.youtube.com/watch?v=ZzLPUoetSHw\n",
      "[youtube] ZzLPUoetSHw: Downloading webpage\n",
      "[youtube] ZzLPUoetSHw: Downloading android player API JSON\n",
      "[info] ZzLPUoetSHw: Downloading 1 format(s): 248+251\n",
      "[info] There's no subtitles for the requested languages\n",
      "[youtube] Extracting URL: https://www.youtube.com/watch?v=Iiwr_OdkILo\n",
      "[youtube] Iiwr_OdkILo: Downloading webpage\n",
      "[youtube] Iiwr_OdkILo: Downloading android player API JSON\n",
      "[info] Iiwr_OdkILo: Downloading subtitles: en\n",
      "[info] Iiwr_OdkILo: Downloading 1 format(s): 315+251\n",
      "[info] Writing video subtitles to: subs/Iiwr_OdkILo.en.vtt\n",
      "[download] Destination: subs/Iiwr_OdkILo.en.vtt\n",
      "[download] 100% of    468.00B in 00:00:00 at 19.83KiB/s\n",
      "[youtube] Extracting URL: https://www.youtube.com/watch?v=JnT0hSGik1A\n",
      "[youtube] JnT0hSGik1A: Downloading webpage\n",
      "[youtube] JnT0hSGik1A: Downloading android player API JSON\n",
      "[info] JnT0hSGik1A: Downloading subtitles: en\n",
      "[info] JnT0hSGik1A: Downloading 1 format(s): 248+251\n",
      "[info] Writing video subtitles to: subs/JnT0hSGik1A.en.vtt\n",
      "[download] Destination: subs/JnT0hSGik1A.en.vtt\n",
      "[download] 100% of   14.95KiB in 00:00:00 at 395.45KiB/s\n",
      "[youtube] Extracting URL: https://www.youtube.com/watch?v=5_sHXJC9ocA\n",
      "[youtube] 5_sHXJC9ocA: Downloading webpage\n",
      "[youtube] 5_sHXJC9ocA: Downloading android player API JSON\n",
      "[info] 5_sHXJC9ocA: Downloading subtitles: en\n",
      "[info] 5_sHXJC9ocA: Downloading 1 format(s): 248+251\n",
      "[info] Writing video subtitles to: subs/5_sHXJC9ocA.en.vtt\n",
      "[download] Destination: subs/5_sHXJC9ocA.en.vtt\n",
      "[download] 100% of    3.86KiB in 00:00:00 at 103.02KiB/s\n",
      "[youtube] Extracting URL: https://www.youtube.com/watch?v=737r0mRf0hY\n",
      "[youtube] 737r0mRf0hY: Downloading webpage\n",
      "[youtube] 737r0mRf0hY: Downloading android player API JSON\n",
      "[info] 737r0mRf0hY: Downloading subtitles: en\n",
      "[info] 737r0mRf0hY: Downloading 1 format(s): 248+251\n",
      "[info] Writing video subtitles to: subs/737r0mRf0hY.en.vtt\n",
      "[download] Destination: subs/737r0mRf0hY.en.vtt\n",
      "[download] 100% of   22.01KiB in 00:00:00 at 560.10KiB/s\n",
      "[youtube] Extracting URL: https://www.youtube.com/watch?v=nWbbDT8oPG8\n",
      "[youtube] nWbbDT8oPG8: Downloading webpage\n",
      "[youtube] nWbbDT8oPG8: Downloading android player API JSON\n",
      "[info] nWbbDT8oPG8: Downloading 1 format(s): 248+251\n",
      "[info] There's no subtitles for the requested languages\n",
      "[youtube] Extracting URL: https://www.youtube.com/watch?v=AM69kS7y6Jc\n",
      "[youtube] AM69kS7y6Jc: Downloading webpage\n",
      "[youtube] AM69kS7y6Jc: Downloading android player API JSON\n",
      "[info] AM69kS7y6Jc: Downloading subtitles: en\n",
      "[info] AM69kS7y6Jc: Downloading 1 format(s): 248+251\n",
      "[info] Writing video subtitles to: subs/AM69kS7y6Jc.en.vtt\n",
      "[download] Destination: subs/AM69kS7y6Jc.en.vtt\n",
      "[download] 100% of   18.62KiB in 00:00:00 at 465.14KiB/s\n",
      "[youtube] Extracting URL: https://www.youtube.com/watch?v=NZcWedPKysk\n",
      "[youtube] NZcWedPKysk: Downloading webpage\n",
      "[youtube] NZcWedPKysk: Downloading android player API JSON\n",
      "[info] NZcWedPKysk: Downloading 1 format(s): 248+251\n",
      "[info] There's no subtitles for the requested languages\n",
      "[youtube] Extracting URL: https://www.youtube.com/watch?v=ze39mtufeNE\n",
      "[youtube] ze39mtufeNE: Downloading webpage\n",
      "[youtube] ze39mtufeNE: Downloading android player API JSON\n",
      "[info] ze39mtufeNE: Downloading subtitles: en\n",
      "[info] ze39mtufeNE: Downloading 1 format(s): 248+251\n",
      "[info] Writing video subtitles to: subs/ze39mtufeNE.en.vtt\n",
      "[download] Destination: subs/ze39mtufeNE.en.vtt\n",
      "[download] 100% of   10.68KiB in 00:00:00 at 293.95KiB/s\n",
      "[youtube] Extracting URL: https://www.youtube.com/watch?v=7Mqb5vicCOc\n",
      "[youtube] 7Mqb5vicCOc: Downloading webpage\n",
      "[youtube] 7Mqb5vicCOc: Downloading android player API JSON\n",
      "[info] 7Mqb5vicCOc: Downloading subtitles: en\n",
      "[info] 7Mqb5vicCOc: Downloading 1 format(s): 247+251\n",
      "[info] Writing video subtitles to: subs/7Mqb5vicCOc.en.vtt\n",
      "[download] Destination: subs/7Mqb5vicCOc.en.vtt\n",
      "[download] 100% of    8.16KiB in 00:00:00 at 264.41KiB/s\n",
      "[youtube] Extracting URL: https://www.youtube.com/watch?v=UxwscVIZ8Qg\n",
      "[youtube] UxwscVIZ8Qg: Downloading webpage\n",
      "[youtube] UxwscVIZ8Qg: Downloading android player API JSON\n",
      "[info] UxwscVIZ8Qg: Downloading 1 format(s): 247+251\n",
      "[info] There's no subtitles for the requested languages\n",
      "[youtube] Extracting URL: https://www.youtube.com/watch?v=ws1YdzsAKOw\n",
      "[youtube] ws1YdzsAKOw: Downloading webpage\n",
      "[youtube] ws1YdzsAKOw: Downloading android player API JSON\n",
      "[info] ws1YdzsAKOw: Downloading 1 format(s): 247+251\n",
      "[info] There's no subtitles for the requested languages\n",
      "[youtube] Extracting URL: https://www.youtube.com/watch?v=TQtRv-wdaJU\n",
      "[youtube] TQtRv-wdaJU: Downloading webpage\n",
      "[youtube] TQtRv-wdaJU: Downloading android player API JSON\n",
      "[info] TQtRv-wdaJU: Downloading subtitles: en\n",
      "[info] TQtRv-wdaJU: Downloading 1 format(s): 248+251\n",
      "[info] Writing video subtitles to: subs/TQtRv-wdaJU.en.vtt\n",
      "[download] Destination: subs/TQtRv-wdaJU.en.vtt\n",
      "[download] 100% of    5.27KiB in 00:00:00 at 160.90KiB/s\n",
      "[youtube] Extracting URL: https://www.youtube.com/watch?v=qmrIPAzfWFo\n",
      "[youtube] qmrIPAzfWFo: Downloading webpage\n",
      "[youtube] qmrIPAzfWFo: Downloading android player API JSON\n",
      "[info] qmrIPAzfWFo: Downloading subtitles: en\n",
      "[info] qmrIPAzfWFo: Downloading 1 format(s): 248+251\n",
      "[info] Writing video subtitles to: subs/qmrIPAzfWFo.en.vtt\n",
      "[download] Destination: subs/qmrIPAzfWFo.en.vtt\n",
      "[download] 100% of   27.54KiB in 00:00:00 at 634.18KiB/s\n",
      "[youtube] Extracting URL: https://www.youtube.com/watch?v=9gD0K7oH92U\n",
      "[youtube] 9gD0K7oH92U: Downloading webpage\n",
      "[youtube] 9gD0K7oH92U: Downloading android player API JSON\n",
      "[info] 9gD0K7oH92U: Downloading subtitles: en\n",
      "[info] 9gD0K7oH92U: Downloading 1 format(s): 248+251\n",
      "[info] Writing video subtitles to: subs/9gD0K7oH92U.en.vtt\n",
      "[download] Destination: subs/9gD0K7oH92U.en.vtt\n",
      "[download] 100% of    5.37KiB in 00:00:00 at 201.74KiB/s\n",
      "[youtube] Extracting URL: https://www.youtube.com/watch?v=kbw7lDO_kuY\n",
      "[youtube] kbw7lDO_kuY: Downloading webpage\n",
      "[youtube] kbw7lDO_kuY: Downloading android player API JSON\n",
      "[info] kbw7lDO_kuY: Downloading 1 format(s): 248+251\n",
      "[info] There's no subtitles for the requested languages\n",
      "[youtube] Extracting URL: https://www.youtube.com/watch?v=pVhIe0cBKDQ\n",
      "[youtube] pVhIe0cBKDQ: Downloading webpage\n",
      "[youtube] pVhIe0cBKDQ: Downloading android player API JSON\n",
      "[info] pVhIe0cBKDQ: Downloading subtitles: en\n",
      "[info] pVhIe0cBKDQ: Downloading 1 format(s): 248+251\n",
      "[info] Writing video subtitles to: subs/pVhIe0cBKDQ.en.vtt\n",
      "[download] Destination: subs/pVhIe0cBKDQ.en.vtt\n",
      "[download] 100% of    6.64KiB in 00:00:00 at 174.10KiB/s\n",
      "[youtube] Extracting URL: https://www.youtube.com/watch?v=1852bo8l6JE\n",
      "[youtube] 1852bo8l6JE: Downloading webpage\n",
      "[youtube] 1852bo8l6JE: Downloading android player API JSON\n",
      "[info] 1852bo8l6JE: Downloading subtitles: en\n",
      "[info] 1852bo8l6JE: Downloading 1 format(s): 248+251\n",
      "[info] Writing video subtitles to: subs/1852bo8l6JE.en.vtt\n",
      "[download] Destination: subs/1852bo8l6JE.en.vtt\n",
      "[download] 100% of   10.40KiB in 00:00:00 at 311.51KiB/s\n",
      "[youtube] Extracting URL: https://www.youtube.com/watch?v=ASetzk1FhBE\n",
      "[youtube] ASetzk1FhBE: Downloading webpage\n",
      "[youtube] ASetzk1FhBE: Downloading android player API JSON\n",
      "[info] ASetzk1FhBE: Downloading subtitles: en\n",
      "[info] ASetzk1FhBE: Downloading 1 format(s): 248+251\n",
      "[info] Writing video subtitles to: subs/ASetzk1FhBE.en.vtt\n",
      "[download] Destination: subs/ASetzk1FhBE.en.vtt\n",
      "[download] 100% of   20.84KiB in 00:00:00 at 557.37KiB/s\n",
      "[youtube] Extracting URL: https://www.youtube.com/watch?v=afz-uBP4xBg\n",
      "[youtube] afz-uBP4xBg: Downloading webpage\n",
      "[youtube] afz-uBP4xBg: Downloading android player API JSON\n",
      "[info] afz-uBP4xBg: Downloading subtitles: en\n",
      "[info] afz-uBP4xBg: Downloading 1 format(s): 248+251\n",
      "[info] Writing video subtitles to: subs/afz-uBP4xBg.en.vtt\n",
      "[download] Destination: subs/afz-uBP4xBg.en.vtt\n",
      "[download] 100% of   10.59KiB in 00:00:00 at 290.87KiB/s\n",
      "[youtube] Extracting URL: https://www.youtube.com/watch?v=1852bo8l6JE\n",
      "[youtube] 1852bo8l6JE: Downloading webpage\n",
      "[youtube] 1852bo8l6JE: Downloading android player API JSON\n",
      "[info] 1852bo8l6JE: Downloading subtitles: en\n",
      "[info] 1852bo8l6JE: Downloading 1 format(s): 248+251\n",
      "Deleting existing file subs/1852bo8l6JE.en.vtt\n",
      "[info] Writing video subtitles to: subs/1852bo8l6JE.en.vtt\n",
      "[download] Destination: subs/1852bo8l6JE.en.vtt\n",
      "[download] 100% of   10.40KiB in 00:00:00 at 280.24KiB/s\n",
      "[youtube] Extracting URL: https://www.youtube.com/watch?v=ASetzk1FhBE\n",
      "[youtube] ASetzk1FhBE: Downloading webpage\n",
      "[youtube] ASetzk1FhBE: Downloading android player API JSON\n",
      "[info] ASetzk1FhBE: Downloading subtitles: en\n",
      "[info] ASetzk1FhBE: Downloading 1 format(s): 248+251\n",
      "Deleting existing file subs/ASetzk1FhBE.en.vtt\n",
      "[info] Writing video subtitles to: subs/ASetzk1FhBE.en.vtt\n",
      "[download] Destination: subs/ASetzk1FhBE.en.vtt\n",
      "[download] 100% of   20.84KiB in 00:00:00 at 544.06KiB/s\n",
      "[youtube] Extracting URL: https://www.youtube.com/watch?v=afz-uBP4xBg\n",
      "[youtube] afz-uBP4xBg: Downloading webpage\n",
      "[youtube] afz-uBP4xBg: Downloading android player API JSON\n",
      "[info] afz-uBP4xBg: Downloading subtitles: en\n",
      "[info] afz-uBP4xBg: Downloading 1 format(s): 248+251\n",
      "Deleting existing file subs/afz-uBP4xBg.en.vtt\n",
      "[info] Writing video subtitles to: subs/afz-uBP4xBg.en.vtt\n",
      "[download] Destination: subs/afz-uBP4xBg.en.vtt\n",
      "[download] 100% of   10.59KiB in 00:00:00 at 253.88KiB/s\n",
      "[youtube] Extracting URL: https://www.youtube.com/watch?v=I3-hGx6PEMM\n",
      "[youtube] I3-hGx6PEMM: Downloading webpage\n",
      "[youtube] I3-hGx6PEMM: Downloading android player API JSON\n",
      "[info] I3-hGx6PEMM: Downloading subtitles: en\n",
      "[info] I3-hGx6PEMM: Downloading 1 format(s): 248+251\n",
      "[info] Writing video subtitles to: subs/I3-hGx6PEMM.en.vtt\n",
      "[download] Destination: subs/I3-hGx6PEMM.en.vtt\n",
      "[download] 100% of     82.00B in 00:00:00 at 3.59KiB/s\n",
      "[youtube] Extracting URL: https://www.youtube.com/watch?v=SyfxIryiD8A\n",
      "[youtube] SyfxIryiD8A: Downloading webpage\n",
      "[youtube] SyfxIryiD8A: Downloading android player API JSON\n",
      "[info] SyfxIryiD8A: Downloading subtitles: en\n",
      "[info] SyfxIryiD8A: Downloading 1 format(s): 248+251\n",
      "[info] Writing video subtitles to: subs/SyfxIryiD8A.en.vtt\n",
      "[download] Destination: subs/SyfxIryiD8A.en.vtt\n",
      "[download] 100% of    6.49KiB in 00:00:00 at 223.67KiB/s\n",
      "[youtube] Extracting URL: https://www.youtube.com/watch?v=AvO8UPbIH30\n",
      "[youtube] AvO8UPbIH30: Downloading webpage\n",
      "[youtube] AvO8UPbIH30: Downloading android player API JSON\n",
      "[info] AvO8UPbIH30: Downloading subtitles: en\n",
      "[info] AvO8UPbIH30: Downloading 1 format(s): 248+251\n",
      "[info] Writing video subtitles to: subs/AvO8UPbIH30.en.vtt\n",
      "[download] Destination: subs/AvO8UPbIH30.en.vtt\n",
      "[download] 100% of   19.82KiB in 00:00:00 at 388.27KiB/s\n",
      "[youtube] Extracting URL: https://www.youtube.com/watch?v=oAIAm6BF0fs\n",
      "[youtube] oAIAm6BF0fs: Downloading webpage\n",
      "[youtube] oAIAm6BF0fs: Downloading android player API JSON\n",
      "[info] oAIAm6BF0fs: Downloading 1 format(s): 248+251\n",
      "[info] There's no subtitles for the requested languages\n",
      "[youtube] Extracting URL: https://www.youtube.com/watch?v=zok9hqyhTQ4\n",
      "[youtube] zok9hqyhTQ4: Downloading webpage\n",
      "[youtube] zok9hqyhTQ4: Downloading android player API JSON\n",
      "[info] zok9hqyhTQ4: Downloading 1 format(s): 248+251\n",
      "[info] There's no subtitles for the requested languages\n",
      "[youtube] Extracting URL: https://www.youtube.com/watch?v=CTGjTAmGJFY\n",
      "[youtube] CTGjTAmGJFY: Downloading webpage\n",
      "[youtube] CTGjTAmGJFY: Downloading android player API JSON\n",
      "[info] CTGjTAmGJFY: Downloading subtitles: en\n",
      "[info] CTGjTAmGJFY: Downloading 1 format(s): 248+251\n",
      "[info] Writing video subtitles to: subs/CTGjTAmGJFY.en.vtt\n",
      "[download] Destination: subs/CTGjTAmGJFY.en.vtt\n",
      "[download] 100% of    617.00B in 00:00:00 at 26.66KiB/s\n",
      "[youtube] Extracting URL: https://www.youtube.com/watch?v=0sX_wDCbeuU\n",
      "[youtube] 0sX_wDCbeuU: Downloading webpage\n",
      "[youtube] 0sX_wDCbeuU: Downloading android player API JSON\n",
      "[info] 0sX_wDCbeuU: Downloading subtitles: en\n",
      "[info] 0sX_wDCbeuU: Downloading 1 format(s): 247+251\n",
      "[info] Writing video subtitles to: subs/0sX_wDCbeuU.en.vtt\n",
      "[download] Destination: subs/0sX_wDCbeuU.en.vtt\n",
      "[download] 100% of    6.48KiB in 00:00:00 at 229.66KiB/s\n",
      "[youtube] Extracting URL: https://www.youtube.com/watch?v=h95fAV-SdDQ\n",
      "[youtube] h95fAV-SdDQ: Downloading webpage\n",
      "[youtube] h95fAV-SdDQ: Downloading android player API JSON\n",
      "[info] h95fAV-SdDQ: Downloading subtitles: en\n",
      "[info] h95fAV-SdDQ: Downloading 1 format(s): 247+251\n",
      "[info] Writing video subtitles to: subs/h95fAV-SdDQ.en.vtt\n",
      "[download] Destination: subs/h95fAV-SdDQ.en.vtt\n",
      "[download] 100% of    4.11KiB in 00:00:00 at 157.48KiB/s\n",
      "[youtube] Extracting URL: https://www.youtube.com/watch?v=RcGyVTAoXEU\n",
      "[youtube] RcGyVTAoXEU: Downloading webpage\n",
      "[youtube] RcGyVTAoXEU: Downloading android player API JSON\n",
      "[info] RcGyVTAoXEU: Downloading subtitles: en\n",
      "[info] RcGyVTAoXEU: Downloading 1 format(s): 247+251\n",
      "[info] Writing video subtitles to: subs/RcGyVTAoXEU.en.vtt\n",
      "[download] Destination: subs/RcGyVTAoXEU.en.vtt\n",
      "[download] 100% of   19.82KiB in 00:00:00 at 412.01KiB/s\n",
      "[youtube] Extracting URL: https://www.youtube.com/watch?v=21rgi2Imq14\n",
      "[youtube] 21rgi2Imq14: Downloading webpage\n",
      "[youtube] 21rgi2Imq14: Downloading android player API JSON\n",
      "[info] 21rgi2Imq14: Downloading subtitles: en\n",
      "[info] 21rgi2Imq14: Downloading 1 format(s): 248+251\n",
      "[info] Writing video subtitles to: subs/21rgi2Imq14.en.vtt\n",
      "[download] Destination: subs/21rgi2Imq14.en.vtt\n",
      "[download] 100% of   13.62KiB in 00:00:00 at 314.51KiB/s\n",
      "[youtube] Extracting URL: https://www.youtube.com/watch?v=wnBYo8ecbnA\n",
      "[youtube] wnBYo8ecbnA: Downloading webpage\n",
      "[youtube] wnBYo8ecbnA: Downloading android player API JSON\n",
      "[info] wnBYo8ecbnA: Downloading 1 format(s): 248+251\n",
      "[info] There's no subtitles for the requested languages\n",
      "[youtube] Extracting URL: https://www.youtube.com/watch?v=Wrdga8SqUFA\n",
      "[youtube] Wrdga8SqUFA: Downloading webpage\n",
      "[youtube] Wrdga8SqUFA: Downloading android player API JSON\n",
      "[info] Wrdga8SqUFA: Downloading 1 format(s): 313+251\n",
      "[info] There's no subtitles for the requested languages\n",
      "[youtube] Extracting URL: https://www.youtube.com/watch?v=8GQZuzIdeQQ\n",
      "[youtube] 8GQZuzIdeQQ: Downloading webpage\n",
      "[youtube] 8GQZuzIdeQQ: Downloading android player API JSON\n",
      "[info] 8GQZuzIdeQQ: Downloading subtitles: en\n",
      "[info] 8GQZuzIdeQQ: Downloading 1 format(s): 247+251\n",
      "[info] Writing video subtitles to: subs/8GQZuzIdeQQ.en.vtt\n",
      "[download] Destination: subs/8GQZuzIdeQQ.en.vtt\n",
      "[download] 100% of   19.60KiB in 00:00:00 at 582.10KiB/s\n",
      "[youtube] Extracting URL: https://www.youtube.com/watch?v=-3oCdNIeU_8\n",
      "[youtube] -3oCdNIeU_8: Downloading webpage\n",
      "[youtube] -3oCdNIeU_8: Downloading android player API JSON\n",
      "[info] -3oCdNIeU_8: Downloading subtitles: en\n",
      "[info] -3oCdNIeU_8: Downloading 1 format(s): 248+251\n",
      "[info] Writing video subtitles to: subs/-3oCdNIeU_8.en.vtt\n",
      "[download] Destination: subs/-3oCdNIeU_8.en.vtt\n",
      "[download] 100% of   14.13KiB in 00:00:00 at 354.04KiB/s\n",
      "[youtube] Extracting URL: https://www.youtube.com/watch?v=w3laDpr4kvw\n",
      "[youtube] w3laDpr4kvw: Downloading webpage\n",
      "[youtube] w3laDpr4kvw: Downloading android player API JSON\n",
      "[info] w3laDpr4kvw: Downloading subtitles: en\n",
      "[info] w3laDpr4kvw: Downloading 1 format(s): 248+251\n",
      "[info] Writing video subtitles to: subs/w3laDpr4kvw.en.vtt\n",
      "[download] Destination: subs/w3laDpr4kvw.en.vtt\n",
      "[download] 100% of    7.87KiB in 00:00:00 at 282.69KiB/s\n",
      "[youtube] Extracting URL: https://www.youtube.com/watch?v=5W-KWRcC7DE\n",
      "[youtube] 5W-KWRcC7DE: Downloading webpage\n",
      "[youtube] 5W-KWRcC7DE: Downloading android player API JSON\n",
      "[info] 5W-KWRcC7DE: Downloading subtitles: en\n",
      "[info] 5W-KWRcC7DE: Downloading 1 format(s): 248+251\n",
      "[info] Writing video subtitles to: subs/5W-KWRcC7DE.en.vtt\n",
      "[download] Destination: subs/5W-KWRcC7DE.en.vtt\n",
      "[download] 100% of    8.66KiB in 00:00:00 at 226.55KiB/s\n",
      "[youtube] Extracting URL: https://www.youtube.com/watch?v=ZqtwRXaj3Eg\n",
      "[youtube] ZqtwRXaj3Eg: Downloading webpage\n",
      "[youtube] ZqtwRXaj3Eg: Downloading android player API JSON\n",
      "[info] ZqtwRXaj3Eg: Downloading subtitles: en\n",
      "[info] ZqtwRXaj3Eg: Downloading 1 format(s): 248+251\n",
      "[info] Writing video subtitles to: subs/ZqtwRXaj3Eg.en.vtt\n",
      "[download] Destination: subs/ZqtwRXaj3Eg.en.vtt\n",
      "[download] 100% of    9.84KiB in 00:00:00 at 282.96KiB/s\n",
      "[youtube] Extracting URL: https://www.youtube.com/watch?v=vkpEOKQFMVg\n",
      "[youtube] vkpEOKQFMVg: Downloading webpage\n",
      "[youtube] vkpEOKQFMVg: Downloading android player API JSON\n",
      "[info] vkpEOKQFMVg: Downloading subtitles: en\n",
      "[info] vkpEOKQFMVg: Downloading 1 format(s): 248+251\n",
      "[info] Writing video subtitles to: subs/vkpEOKQFMVg.en.vtt\n",
      "[download] Destination: subs/vkpEOKQFMVg.en.vtt\n",
      "[download] 100% of   18.56KiB in 00:00:00 at 369.91KiB/s\n",
      "[youtube] Extracting URL: https://www.youtube.com/watch?v=V3NGBo2M1Ps\n",
      "[youtube] V3NGBo2M1Ps: Downloading webpage\n",
      "[youtube] V3NGBo2M1Ps: Downloading android player API JSON\n",
      "[info] V3NGBo2M1Ps: Downloading subtitles: en\n",
      "[info] V3NGBo2M1Ps: Downloading 1 format(s): 248+251\n",
      "[info] Writing video subtitles to: subs/V3NGBo2M1Ps.en.vtt\n",
      "[download] Destination: subs/V3NGBo2M1Ps.en.vtt\n",
      "[download] 100% of   15.84KiB in 00:00:00 at 386.68KiB/s\n",
      "[youtube] Extracting URL: https://www.youtube.com/watch?v=X_lZ49spG5A\n",
      "[youtube] X_lZ49spG5A: Downloading webpage\n",
      "[youtube] X_lZ49spG5A: Downloading android player API JSON\n",
      "[info] X_lZ49spG5A: Downloading subtitles: en\n",
      "[info] X_lZ49spG5A: Downloading 1 format(s): 303+251\n",
      "[info] Writing video subtitles to: subs/X_lZ49spG5A.en.vtt\n",
      "[download] Destination: subs/X_lZ49spG5A.en.vtt\n",
      "[download] 100% of    2.18KiB in 00:00:00 at 67.05KiB/s\n",
      "[youtube] Extracting URL: https://www.youtube.com/watch?v=RgYhgNWLqtY\n",
      "[youtube] RgYhgNWLqtY: Downloading webpage\n",
      "[youtube] RgYhgNWLqtY: Downloading android player API JSON\n",
      "[info] RgYhgNWLqtY: Downloading subtitles: en\n",
      "[info] RgYhgNWLqtY: Downloading 1 format(s): 313+251\n",
      "[info] Writing video subtitles to: subs/RgYhgNWLqtY.en.vtt\n",
      "[download] Destination: subs/RgYhgNWLqtY.en.vtt\n",
      "[download] 100% of    917.00B in 00:00:00 at 42.67KiB/s\n",
      "[youtube] Extracting URL: https://www.youtube.com/watch?v=UX6K-Z67vI4\n",
      "[youtube] UX6K-Z67vI4: Downloading webpage\n",
      "[youtube] UX6K-Z67vI4: Downloading android player API JSON\n",
      "[info] UX6K-Z67vI4: Downloading subtitles: en\n",
      "[info] UX6K-Z67vI4: Downloading 1 format(s): 248+251\n",
      "[info] Writing video subtitles to: subs/UX6K-Z67vI4.en.vtt\n",
      "[download] Destination: subs/UX6K-Z67vI4.en.vtt\n",
      "[download] 100% of    9.81KiB in 00:00:00 at 355.07KiB/s\n",
      "[youtube] Extracting URL: https://www.youtube.com/watch?v=2XBvw_Ty-C0\n",
      "[youtube] 2XBvw_Ty-C0: Downloading webpage\n",
      "[youtube] 2XBvw_Ty-C0: Downloading android player API JSON\n",
      "[info] 2XBvw_Ty-C0: Downloading 1 format(s): 248+251\n",
      "[info] There's no subtitles for the requested languages\n",
      "[youtube] Extracting URL: https://www.youtube.com/watch?v=BLfNP4Sc_iA\n",
      "[youtube] BLfNP4Sc_iA: Downloading webpage\n",
      "[youtube] BLfNP4Sc_iA: Downloading android player API JSON\n",
      "[info] BLfNP4Sc_iA: Downloading 1 format(s): 303+251\n",
      "[info] There's no subtitles for the requested languages\n",
      "[youtube] Extracting URL: https://www.youtube.com/watch?v=hHD10DjxM1g\n",
      "[youtube] hHD10DjxM1g: Downloading webpage\n",
      "[youtube] hHD10DjxM1g: Downloading android player API JSON\n",
      "[info] hHD10DjxM1g: Downloading subtitles: en\n",
      "[info] hHD10DjxM1g: Downloading 1 format(s): 248+251\n",
      "[info] Writing video subtitles to: subs/hHD10DjxM1g.en.vtt\n",
      "[download] Destination: subs/hHD10DjxM1g.en.vtt\n",
      "[download] 100% of    9.71KiB in 00:00:00 at 294.00KiB/s\n",
      "[youtube] Extracting URL: https://www.youtube.com/watch?v=wUBAjWqwAd0\n",
      "[youtube] wUBAjWqwAd0: Downloading webpage\n",
      "[youtube] wUBAjWqwAd0: Downloading android player API JSON\n",
      "[info] wUBAjWqwAd0: Downloading 1 format(s): 313+251\n",
      "[info] There's no subtitles for the requested languages\n",
      "[youtube] Extracting URL: https://www.youtube.com/watch?v=I9hJ_Rux9y0\n",
      "[youtube] I9hJ_Rux9y0: Downloading webpage\n",
      "[youtube] I9hJ_Rux9y0: Downloading android player API JSON\n",
      "[info] I9hJ_Rux9y0: Downloading 1 format(s): 303+251\n",
      "[info] There's no subtitles for the requested languages\n",
      "[youtube] Extracting URL: https://www.youtube.com/watch?v=uFk0mgljtns\n",
      "[youtube] uFk0mgljtns: Downloading webpage\n",
      "[youtube] uFk0mgljtns: Downloading android player API JSON\n",
      "[info] uFk0mgljtns: Downloading subtitles: en\n",
      "[info] uFk0mgljtns: Downloading 1 format(s): 303+251\n",
      "[info] Writing video subtitles to: subs/uFk0mgljtns.en.vtt\n",
      "[download] Destination: subs/uFk0mgljtns.en.vtt\n",
      "[download] 100% of    8.10KiB in 00:00:00 at 237.28KiB/s\n",
      "[youtube] Extracting URL: https://www.youtube.com/watch?v=zboZ-0VFRx4\n",
      "[youtube] zboZ-0VFRx4: Downloading webpage\n",
      "[youtube] zboZ-0VFRx4: Downloading android player API JSON\n",
      "[info] zboZ-0VFRx4: Downloading 1 format(s): 247+251\n",
      "[info] There's no subtitles for the requested languages\n",
      "[youtube] Extracting URL: https://www.youtube.com/watch?v=UxpWM7ISoUM\n",
      "[youtube] UxpWM7ISoUM: Downloading webpage\n",
      "[youtube] UxpWM7ISoUM: Downloading android player API JSON\n",
      "[info] UxpWM7ISoUM: Downloading subtitles: en\n",
      "[info] UxpWM7ISoUM: Downloading 1 format(s): 313+251\n",
      "[info] Writing video subtitles to: subs/UxpWM7ISoUM.en.vtt\n",
      "[download] Destination: subs/UxpWM7ISoUM.en.vtt\n",
      "[download] 100% of    7.30KiB in 00:00:00 at 316.25KiB/s\n",
      "[youtube] Extracting URL: https://www.youtube.com/watch?v=EKPAfUCn_Jo\n",
      "[youtube] EKPAfUCn_Jo: Downloading webpage\n",
      "[youtube] EKPAfUCn_Jo: Downloading android player API JSON\n",
      "[info] EKPAfUCn_Jo: Downloading 1 format(s): 248+251\n",
      "[info] There's no subtitles for the requested languages\n",
      "[youtube] Extracting URL: https://www.youtube.com/watch?v=rLZsKI8dcvo\n",
      "[youtube] rLZsKI8dcvo: Downloading webpage\n",
      "[youtube] rLZsKI8dcvo: Downloading android player API JSON\n",
      "[info] rLZsKI8dcvo: Downloading subtitles: en\n",
      "[info] rLZsKI8dcvo: Downloading 1 format(s): 313+251\n",
      "[info] Writing video subtitles to: subs/rLZsKI8dcvo.en.vtt\n",
      "[download] Destination: subs/rLZsKI8dcvo.en.vtt\n",
      "[download] 100% of    5.28KiB in 00:00:00 at 195.20KiB/s\n",
      "[youtube] Extracting URL: https://www.youtube.com/watch?v=9Xy6snLviK4\n",
      "[youtube] 9Xy6snLviK4: Downloading webpage\n",
      "[youtube] 9Xy6snLviK4: Downloading android player API JSON\n",
      "[info] 9Xy6snLviK4: Downloading subtitles: en\n",
      "[info] 9Xy6snLviK4: Downloading 1 format(s): 313+251\n",
      "[info] Writing video subtitles to: subs/9Xy6snLviK4.en.vtt\n",
      "[download] Destination: subs/9Xy6snLviK4.en.vtt\n",
      "[download] 100% of    429.00B in 00:00:00 at 17.57KiB/s\n",
      "[youtube] Extracting URL: https://www.youtube.com/watch?v=6Ig3Rm1YLRo\n",
      "[youtube] 6Ig3Rm1YLRo: Downloading webpage\n",
      "[youtube] 6Ig3Rm1YLRo: Downloading android player API JSON\n",
      "[info] 6Ig3Rm1YLRo: Downloading subtitles: en\n",
      "[info] 6Ig3Rm1YLRo: Downloading 1 format(s): 248+251\n",
      "[info] Writing video subtitles to: subs/6Ig3Rm1YLRo.en.vtt\n",
      "[download] Destination: subs/6Ig3Rm1YLRo.en.vtt\n",
      "[download] 100% of   16.92KiB in 00:00:00 at 400.43KiB/s\n",
      "[youtube] Extracting URL: https://www.youtube.com/watch?v=SpSrBGnjurA\n",
      "[youtube] SpSrBGnjurA: Downloading webpage\n",
      "[youtube] SpSrBGnjurA: Downloading android player API JSON\n",
      "[info] SpSrBGnjurA: Downloading subtitles: en\n",
      "[info] SpSrBGnjurA: Downloading 1 format(s): 248+251\n",
      "[info] Writing video subtitles to: subs/SpSrBGnjurA.en.vtt\n",
      "[download] Destination: subs/SpSrBGnjurA.en.vtt\n",
      "[download] 100% of    7.66KiB in 00:00:00 at 254.20KiB/s\n",
      "[youtube] Extracting URL: https://www.youtube.com/watch?v=IlKaB1etrik\n",
      "[youtube] IlKaB1etrik: Downloading webpage\n",
      "[youtube] IlKaB1etrik: Downloading android player API JSON\n",
      "[info] IlKaB1etrik: Downloading subtitles: en\n",
      "[info] IlKaB1etrik: Downloading 1 format(s): 303+251\n",
      "[info] Writing video subtitles to: subs/IlKaB1etrik.en.vtt\n",
      "[download] Destination: subs/IlKaB1etrik.en.vtt\n",
      "[download] 100% of   18.48KiB in 00:00:00 at 392.99KiB/s\n",
      "[youtube] Extracting URL: https://www.youtube.com/watch?v=U8tam5js86I\n",
      "[youtube] U8tam5js86I: Downloading webpage\n",
      "[youtube] U8tam5js86I: Downloading android player API JSON\n",
      "[info] U8tam5js86I: Downloading 1 format(s): 248+251\n",
      "[info] There's no subtitles for the requested languages\n",
      "[youtube] Extracting URL: https://www.youtube.com/watch?v=uv8mbL-MC58\n",
      "[youtube] uv8mbL-MC58: Downloading webpage\n",
      "[youtube] uv8mbL-MC58: Downloading android player API JSON\n",
      "[info] uv8mbL-MC58: Downloading subtitles: en\n",
      "[info] uv8mbL-MC58: Downloading 1 format(s): 248+251\n",
      "[info] Writing video subtitles to: subs/uv8mbL-MC58.en.vtt\n",
      "[download] Destination: subs/uv8mbL-MC58.en.vtt\n",
      "[download] 100% of   13.45KiB in 00:00:00 at 363.90KiB/s\n",
      "[youtube] Extracting URL: https://www.youtube.com/watch?v=7aYS6Sbf0TA\n",
      "[youtube] 7aYS6Sbf0TA: Downloading webpage\n",
      "[youtube] 7aYS6Sbf0TA: Downloading android player API JSON\n",
      "[info] 7aYS6Sbf0TA: Downloading 1 format(s): 248+251\n",
      "[info] There's no subtitles for the requested languages\n",
      "[youtube] Extracting URL: https://www.youtube.com/watch?v=i4xTz_OwlSQ\n",
      "[youtube] i4xTz_OwlSQ: Downloading webpage\n",
      "[youtube] i4xTz_OwlSQ: Downloading android player API JSON\n",
      "[info] i4xTz_OwlSQ: Downloading 1 format(s): 247+251\n",
      "[info] There's no subtitles for the requested languages\n",
      "[youtube] Extracting URL: https://www.youtube.com/watch?v=LlFIZitLxT8\n",
      "[youtube] LlFIZitLxT8: Downloading webpage\n",
      "[youtube] LlFIZitLxT8: Downloading android player API JSON\n",
      "[info] LlFIZitLxT8: Downloading 1 format(s): 313+251\n",
      "[info] There's no subtitles for the requested languages\n",
      "[youtube] Extracting URL: https://www.youtube.com/watch?v=xyYZttLDL5E\n",
      "[youtube] xyYZttLDL5E: Downloading webpage\n",
      "[youtube] xyYZttLDL5E: Downloading android player API JSON\n",
      "[info] xyYZttLDL5E: Downloading subtitles: en\n",
      "[info] xyYZttLDL5E: Downloading 1 format(s): 248+251\n",
      "[info] Writing video subtitles to: subs/xyYZttLDL5E.en.vtt\n",
      "[download] Destination: subs/xyYZttLDL5E.en.vtt\n",
      "[download] 100% of  441.72KiB in 00:00:00 at 4.04MiB/s\n",
      "[youtube] Extracting URL: https://www.youtube.com/watch?v=8ofte5yoVFs\n",
      "[youtube] 8ofte5yoVFs: Downloading webpage\n",
      "[youtube] 8ofte5yoVFs: Downloading android player API JSON\n",
      "[info] 8ofte5yoVFs: Downloading 1 format(s): 248+251\n",
      "[info] There's no subtitles for the requested languages\n",
      "[youtube] Extracting URL: https://www.youtube.com/watch?v=kdfau9slFIE\n",
      "[youtube] kdfau9slFIE: Downloading webpage\n",
      "[youtube] kdfau9slFIE: Downloading android player API JSON\n",
      "[info] kdfau9slFIE: Downloading subtitles: en\n",
      "[info] kdfau9slFIE: Downloading 1 format(s): 313+251\n",
      "[info] Writing video subtitles to: subs/kdfau9slFIE.en.vtt\n",
      "[download] Destination: subs/kdfau9slFIE.en.vtt\n",
      "[download] 100% of   27.27KiB in 00:00:00 at 736.29KiB/s\n",
      "[youtube] Extracting URL: https://www.youtube.com/watch?v=9biIOtEYeHc\n",
      "[youtube] 9biIOtEYeHc: Downloading webpage\n",
      "[youtube] 9biIOtEYeHc: Downloading android player API JSON\n",
      "[info] 9biIOtEYeHc: Downloading 1 format(s): 248+251\n",
      "[info] There's no subtitles for the requested languages\n",
      "[youtube] Extracting URL: https://www.youtube.com/watch?v=Gjo1hlIey9g\n",
      "[youtube] Gjo1hlIey9g: Downloading webpage\n",
      "[youtube] Gjo1hlIey9g: Downloading android player API JSON\n",
      "[info] Gjo1hlIey9g: Downloading subtitles: en\n",
      "[info] Gjo1hlIey9g: Downloading 1 format(s): 248+251\n",
      "[info] Writing video subtitles to: subs/Gjo1hlIey9g.en.vtt\n",
      "[download] Destination: subs/Gjo1hlIey9g.en.vtt\n",
      "[download] 100% of   15.89KiB in 00:00:00 at 473.36KiB/s\n",
      "[youtube] Extracting URL: https://www.youtube.com/watch?v=5Kb3mlUwwL0\n",
      "[youtube] 5Kb3mlUwwL0: Downloading webpage\n",
      "[youtube] 5Kb3mlUwwL0: Downloading android player API JSON\n",
      "[info] 5Kb3mlUwwL0: Downloading 1 format(s): 313+251\n",
      "[info] There's no subtitles for the requested languages\n",
      "[youtube] Extracting URL: https://www.youtube.com/watch?v=Zp-F68Fa-ps\n",
      "[youtube] Zp-F68Fa-ps: Downloading webpage\n",
      "[youtube] Zp-F68Fa-ps: Downloading android player API JSON\n",
      "[info] Zp-F68Fa-ps: Downloading subtitles: en\n",
      "[info] Zp-F68Fa-ps: Downloading 1 format(s): 247+251\n",
      "[info] Writing video subtitles to: subs/Zp-F68Fa-ps.en.vtt\n",
      "[download] Destination: subs/Zp-F68Fa-ps.en.vtt\n",
      "[download] 100% of    8.61KiB in 00:00:00 at 221.57KiB/s\n",
      "[youtube] Extracting URL: https://www.youtube.com/watch?v=_99pY5GuMSE\n",
      "[youtube] _99pY5GuMSE: Downloading webpage\n",
      "[youtube] _99pY5GuMSE: Downloading android player API JSON\n",
      "[info] _99pY5GuMSE: Downloading 1 format(s): 248+251\n",
      "[info] There's no subtitles for the requested languages\n",
      "[youtube] Extracting URL: https://www.youtube.com/watch?v=2nshBD9EbxE\n",
      "[youtube] 2nshBD9EbxE: Downloading webpage\n",
      "[youtube] 2nshBD9EbxE: Downloading android player API JSON\n",
      "[info] 2nshBD9EbxE: Downloading subtitles: en\n",
      "[info] 2nshBD9EbxE: Downloading 1 format(s): 313+251\n",
      "[info] Writing video subtitles to: subs/2nshBD9EbxE.en.vtt\n",
      "[download] Destination: subs/2nshBD9EbxE.en.vtt\n",
      "[download] 100% of   19.42KiB in 00:00:00 at 596.76KiB/s\n",
      "[youtube] Extracting URL: https://www.youtube.com/watch?v=9iqG6VDoRPQ\n",
      "[youtube] 9iqG6VDoRPQ: Downloading webpage\n",
      "[youtube] 9iqG6VDoRPQ: Downloading android player API JSON\n",
      "[info] 9iqG6VDoRPQ: Downloading subtitles: en\n",
      "[info] 9iqG6VDoRPQ: Downloading 1 format(s): 313+251\n",
      "[info] Writing video subtitles to: subs/9iqG6VDoRPQ.en.vtt\n",
      "[download] Destination: subs/9iqG6VDoRPQ.en.vtt\n",
      "[download] 100% of    2.55KiB in 00:00:00 at 80.73KiB/s\n",
      "[youtube] Extracting URL: https://www.youtube.com/watch?v=VZPkIPfnzqs\n",
      "[youtube] VZPkIPfnzqs: Downloading webpage\n",
      "[youtube] VZPkIPfnzqs: Downloading android player API JSON\n",
      "[info] VZPkIPfnzqs: Downloading 1 format(s): 248+251\n",
      "[info] There's no subtitles for the requested languages\n",
      "[youtube] Extracting URL: https://www.youtube.com/watch?v=pAWduxoCgVk\n",
      "[youtube] pAWduxoCgVk: Downloading webpage\n",
      "[youtube] pAWduxoCgVk: Downloading android player API JSON\n",
      "[info] pAWduxoCgVk: Downloading 1 format(s): 248+251\n",
      "[info] There's no subtitles for the requested languages\n",
      "[youtube] Extracting URL: https://www.youtube.com/watch?v=Z2gbULH7tdI\n",
      "[youtube] Z2gbULH7tdI: Downloading webpage\n",
      "[youtube] Z2gbULH7tdI: Downloading android player API JSON\n",
      "[info] Z2gbULH7tdI: Downloading subtitles: en\n",
      "[info] Z2gbULH7tdI: Downloading 1 format(s): 313+251\n",
      "[info] Writing video subtitles to: subs/Z2gbULH7tdI.en.vtt\n",
      "[download] Destination: subs/Z2gbULH7tdI.en.vtt\n",
      "[download] 100% of    4.02KiB in 00:00:00 at 123.59KiB/s\n",
      "[youtube] Extracting URL: https://www.youtube.com/watch?v=DV7hop4m0YQ\n",
      "[youtube] DV7hop4m0YQ: Downloading webpage\n",
      "[youtube] DV7hop4m0YQ: Downloading android player API JSON\n",
      "[info] DV7hop4m0YQ: Downloading subtitles: en\n",
      "[info] DV7hop4m0YQ: Downloading 1 format(s): 248+251\n",
      "[info] Writing video subtitles to: subs/DV7hop4m0YQ.en.vtt\n",
      "[download] Destination: subs/DV7hop4m0YQ.en.vtt\n",
      "[download] 100% of    6.28KiB in 00:00:00 at 227.45KiB/s\n",
      "[youtube] Extracting URL: https://www.youtube.com/watch?v=EdaXIAt6YDE\n",
      "[youtube] EdaXIAt6YDE: Downloading webpage\n",
      "[youtube] EdaXIAt6YDE: Downloading android player API JSON\n",
      "[info] EdaXIAt6YDE: Downloading subtitles: en\n",
      "[info] EdaXIAt6YDE: Downloading 1 format(s): 248+251\n",
      "[info] Writing video subtitles to: subs/EdaXIAt6YDE.en.vtt\n",
      "[download] Destination: subs/EdaXIAt6YDE.en.vtt\n",
      "[download] 100% of    750.00B in 00:00:00 at 38.65KiB/s\n",
      "[youtube] Extracting URL: https://www.youtube.com/watch?v=a3EYQARJkLk\n",
      "[youtube] a3EYQARJkLk: Downloading webpage\n",
      "[youtube] a3EYQARJkLk: Downloading android player API JSON\n",
      "[info] a3EYQARJkLk: Downloading 1 format(s): 248+251\n",
      "[info] There's no subtitles for the requested languages\n",
      "[youtube] Extracting URL: https://www.youtube.com/watch?v=zi4AT6uYKUs\n",
      "[youtube] zi4AT6uYKUs: Downloading webpage\n",
      "[youtube] zi4AT6uYKUs: Downloading android player API JSON\n",
      "[info] zi4AT6uYKUs: Downloading subtitles: en\n",
      "[info] zi4AT6uYKUs: Downloading 1 format(s): 248+251\n",
      "[info] Writing video subtitles to: subs/zi4AT6uYKUs.en.vtt\n",
      "[download] Destination: subs/zi4AT6uYKUs.en.vtt\n",
      "[download] 100% of   15.68KiB in 00:00:00 at 422.25KiB/s\n",
      "[youtube] Extracting URL: https://www.youtube.com/watch?v=n8vei8M3QjM\n",
      "[youtube] n8vei8M3QjM: Downloading webpage\n",
      "[youtube] n8vei8M3QjM: Downloading android player API JSON\n",
      "[info] n8vei8M3QjM: Downloading subtitles: en\n",
      "[info] n8vei8M3QjM: Downloading 1 format(s): 248+251\n",
      "[info] Writing video subtitles to: subs/n8vei8M3QjM.en.vtt\n",
      "[download] Destination: subs/n8vei8M3QjM.en.vtt\n",
      "[download] 100% of   10.31KiB in 00:00:00 at 316.31KiB/s\n",
      "[youtube] Extracting URL: https://www.youtube.com/watch?v=EoufLVAAPSU\n",
      "[youtube] EoufLVAAPSU: Downloading webpage\n",
      "[youtube] EoufLVAAPSU: Downloading android player API JSON\n",
      "[info] EoufLVAAPSU: Downloading 1 format(s): 248+251\n",
      "[info] There's no subtitles for the requested languages\n",
      "[youtube] Extracting URL: https://www.youtube.com/watch?v=SFeChtLaHy4\n",
      "[youtube] SFeChtLaHy4: Downloading webpage\n",
      "[youtube] SFeChtLaHy4: Downloading android player API JSON\n",
      "[info] SFeChtLaHy4: Downloading 1 format(s): 248+251-2\n",
      "[info] There's no subtitles for the requested languages\n",
      "[youtube] Extracting URL: https://www.youtube.com/watch?v=v21RJV9__Dw\n",
      "[youtube] v21RJV9__Dw: Downloading webpage\n",
      "[youtube] v21RJV9__Dw: Downloading android player API JSON\n",
      "[info] v21RJV9__Dw: Downloading subtitles: en\n",
      "[info] v21RJV9__Dw: Downloading 1 format(s): 303+251\n",
      "[info] Writing video subtitles to: subs/v21RJV9__Dw.en.vtt\n",
      "[download] Destination: subs/v21RJV9__Dw.en.vtt\n",
      "[download] 100% of    1.78KiB in 00:00:00 at 55.02KiB/s\n",
      "[youtube] Extracting URL: https://www.youtube.com/watch?v=EBgY0wn0m1o\n",
      "[youtube] EBgY0wn0m1o: Downloading webpage\n",
      "[youtube] EBgY0wn0m1o: Downloading android player API JSON\n",
      "[info] EBgY0wn0m1o: Downloading subtitles: en\n",
      "[info] EBgY0wn0m1o: Downloading 1 format(s): 313+251\n",
      "[info] Writing video subtitles to: subs/EBgY0wn0m1o.en.vtt\n",
      "[download] Destination: subs/EBgY0wn0m1o.en.vtt\n",
      "[download] 100% of    3.38KiB in 00:00:00 at 109.48KiB/s\n",
      "[youtube] Extracting URL: https://www.youtube.com/watch?v=XXHk92_MeZo\n",
      "[youtube] XXHk92_MeZo: Downloading webpage\n",
      "[youtube] XXHk92_MeZo: Downloading android player API JSON\n",
      "[info] XXHk92_MeZo: Downloading 1 format(s): 248+251\n",
      "[info] There's no subtitles for the requested languages\n",
      "[youtube] Extracting URL: https://www.youtube.com/watch?v=rXodK5gMzXs\n",
      "[youtube] rXodK5gMzXs: Downloading webpage\n",
      "[youtube] rXodK5gMzXs: Downloading android player API JSON\n",
      "[info] rXodK5gMzXs: Downloading subtitles: en\n",
      "[info] rXodK5gMzXs: Downloading 1 format(s): 248+251\n",
      "[info] Writing video subtitles to: subs/rXodK5gMzXs.en.vtt\n",
      "[download] Destination: subs/rXodK5gMzXs.en.vtt\n",
      "[download] 100% of    7.52KiB in 00:00:00 at 272.84KiB/s\n",
      "[youtube] Extracting URL: https://www.youtube.com/watch?v=YyCRnAZ4eCc\n",
      "[youtube] YyCRnAZ4eCc: Downloading webpage\n",
      "[youtube] YyCRnAZ4eCc: Downloading android player API JSON\n",
      "[info] YyCRnAZ4eCc: Downloading subtitles: en\n",
      "[info] YyCRnAZ4eCc: Downloading 1 format(s): 248+251\n",
      "[info] Writing video subtitles to: subs/YyCRnAZ4eCc.en.vtt\n",
      "[download] Destination: subs/YyCRnAZ4eCc.en.vtt\n",
      "[download] 100% of    6.77KiB in 00:00:00 at 266.91KiB/s\n",
      "[youtube] Extracting URL: https://www.youtube.com/watch?v=I-JWui4xvE4\n",
      "[youtube] I-JWui4xvE4: Downloading webpage\n",
      "[youtube] I-JWui4xvE4: Downloading android player API JSON\n",
      "[info] I-JWui4xvE4: Downloading 1 format(s): 248+251\n",
      "[info] There's no subtitles for the requested languages\n",
      "[youtube] Extracting URL: https://www.youtube.com/watch?v=yuVzmaGMFKE\n",
      "[youtube] yuVzmaGMFKE: Downloading webpage\n",
      "[youtube] yuVzmaGMFKE: Downloading android player API JSON\n",
      "[info] yuVzmaGMFKE: Downloading subtitles: en\n",
      "[info] yuVzmaGMFKE: Downloading 1 format(s): 271+251\n",
      "[info] Writing video subtitles to: subs/yuVzmaGMFKE.en.vtt\n",
      "[download] Destination: subs/yuVzmaGMFKE.en.vtt\n",
      "[download] 100% of    5.67KiB in 00:00:00 at 166.51KiB/s\n",
      "[youtube] Extracting URL: https://www.youtube.com/watch?v=3_a4o30fTbA\n",
      "[youtube] 3_a4o30fTbA: Downloading webpage\n",
      "[youtube] 3_a4o30fTbA: Downloading android player API JSON\n",
      "[info] 3_a4o30fTbA: Downloading 1 format(s): 313+251\n",
      "[info] There's no subtitles for the requested languages\n",
      "[youtube] Extracting URL: https://www.youtube.com/watch?v=BVNhJXa5W74\n",
      "[youtube] BVNhJXa5W74: Downloading webpage\n",
      "[youtube] BVNhJXa5W74: Downloading android player API JSON\n",
      "[info] BVNhJXa5W74: Downloading subtitles: en\n",
      "[info] BVNhJXa5W74: Downloading 1 format(s): 248+251\n",
      "[info] Writing video subtitles to: subs/BVNhJXa5W74.en.vtt\n",
      "[download] Destination: subs/BVNhJXa5W74.en.vtt\n",
      "[download] 100% of    4.56KiB in 00:00:00 at 121.29KiB/s\n",
      "[youtube] Extracting URL: https://www.youtube.com/watch?v=rkoLmraD79A\n",
      "[youtube] rkoLmraD79A: Downloading webpage\n",
      "[youtube] rkoLmraD79A: Downloading android player API JSON\n",
      "[info] rkoLmraD79A: Downloading 1 format(s): 248+251\n",
      "[info] There's no subtitles for the requested languages\n",
      "[youtube] Extracting URL: https://www.youtube.com/watch?v=RNqYAuZttws\n",
      "[youtube] RNqYAuZttws: Downloading webpage\n",
      "[youtube] RNqYAuZttws: Downloading android player API JSON\n",
      "[info] RNqYAuZttws: Downloading 1 format(s): 247+251\n",
      "[info] There's no subtitles for the requested languages\n",
      "[youtube] Extracting URL: https://www.youtube.com/watch?v=HHIX6iEJ1ZU\n",
      "[youtube] HHIX6iEJ1ZU: Downloading webpage\n",
      "[youtube] HHIX6iEJ1ZU: Downloading android player API JSON\n",
      "[info] HHIX6iEJ1ZU: Downloading subtitles: en\n",
      "[info] HHIX6iEJ1ZU: Downloading 1 format(s): 248+251\n",
      "[info] Writing video subtitles to: subs/HHIX6iEJ1ZU.en.vtt\n",
      "[download] Destination: subs/HHIX6iEJ1ZU.en.vtt\n",
      "[download] 100% of   14.10KiB in 00:00:00 at 477.66KiB/s\n",
      "[youtube] Extracting URL: https://www.youtube.com/watch?v=EyofqsBQS5I\n",
      "[youtube] EyofqsBQS5I: Downloading webpage\n",
      "[youtube] EyofqsBQS5I: Downloading android player API JSON\n",
      "[info] EyofqsBQS5I: Downloading subtitles: en\n",
      "[info] EyofqsBQS5I: Downloading 1 format(s): 313+251\n",
      "[info] Writing video subtitles to: subs/EyofqsBQS5I.en.vtt\n",
      "[download] Destination: subs/EyofqsBQS5I.en.vtt\n",
      "[download] 100% of    1.77KiB in 00:00:00 at 67.22KiB/s\n",
      "[youtube] Extracting URL: https://www.youtube.com/watch?v=8-3Xe7RMg3w\n",
      "[youtube] 8-3Xe7RMg3w: Downloading webpage\n",
      "[youtube] 8-3Xe7RMg3w: Downloading android player API JSON\n",
      "[info] 8-3Xe7RMg3w: Downloading subtitles: en\n",
      "[info] 8-3Xe7RMg3w: Downloading 1 format(s): 248+251\n",
      "[info] Writing video subtitles to: subs/8-3Xe7RMg3w.en.vtt\n",
      "[download] Destination: subs/8-3Xe7RMg3w.en.vtt\n",
      "[download] 100% of    9.15KiB in 00:00:00 at 272.11KiB/s\n",
      "[youtube] Extracting URL: https://www.youtube.com/watch?v=PdJzy956wo4\n",
      "[youtube] PdJzy956wo4: Downloading webpage\n",
      "[youtube] PdJzy956wo4: Downloading android player API JSON\n",
      "[info] PdJzy956wo4: Downloading subtitles: en\n",
      "[info] PdJzy956wo4: Downloading 1 format(s): 313+251\n",
      "[info] Writing video subtitles to: subs/PdJzy956wo4.en.vtt\n",
      "[download] Destination: subs/PdJzy956wo4.en.vtt\n",
      "[download] 100% of   31.24KiB in 00:00:00 at 836.09KiB/s\n",
      "[youtube] Extracting URL: https://www.youtube.com/watch?v=Du0M6yVjKlA\n",
      "[youtube] Du0M6yVjKlA: Downloading webpage\n",
      "[youtube] Du0M6yVjKlA: Downloading android player API JSON\n",
      "[info] Du0M6yVjKlA: Downloading 1 format(s): 248+251\n",
      "[info] There's no subtitles for the requested languages\n",
      "[youtube] Extracting URL: https://www.youtube.com/watch?v=fYuLzUeDE-Y\n",
      "[youtube] fYuLzUeDE-Y: Downloading webpage\n",
      "[youtube] fYuLzUeDE-Y: Downloading android player API JSON\n",
      "[info] fYuLzUeDE-Y: Downloading 1 format(s): 313+251\n",
      "[info] There's no subtitles for the requested languages\n",
      "[youtube] Extracting URL: https://www.youtube.com/watch?v=q53HUAKB9oU\n",
      "[youtube] q53HUAKB9oU: Downloading webpage\n",
      "[youtube] q53HUAKB9oU: Downloading android player API JSON\n",
      "[info] q53HUAKB9oU: Downloading subtitles: en\n",
      "[info] q53HUAKB9oU: Downloading 1 format(s): 248+251\n",
      "[info] Writing video subtitles to: subs/q53HUAKB9oU.en.vtt\n",
      "[download] Destination: subs/q53HUAKB9oU.en.vtt\n",
      "[download] 100% of   10.49KiB in 00:00:00 at 292.75KiB/s\n",
      "[youtube] Extracting URL: https://www.youtube.com/watch?v=K59404x4D5w\n",
      "[youtube] K59404x4D5w: Downloading webpage\n",
      "[youtube] K59404x4D5w: Downloading android player API JSON\n",
      "[info] K59404x4D5w: Downloading subtitles: en\n",
      "[info] K59404x4D5w: Downloading 1 format(s): 248+251\n",
      "[info] Writing video subtitles to: subs/K59404x4D5w.en.vtt\n",
      "[download] Destination: subs/K59404x4D5w.en.vtt\n",
      "[download] 100% of    100.00B in 00:00:00 at 4.81KiB/s\n",
      "[youtube] Extracting URL: https://www.youtube.com/watch?v=FLd00Bx4tOk\n",
      "[youtube] FLd00Bx4tOk: Downloading webpage\n",
      "[youtube] FLd00Bx4tOk: Downloading android player API JSON\n",
      "[info] FLd00Bx4tOk: Downloading subtitles: en\n",
      "[info] FLd00Bx4tOk: Downloading 1 format(s): 248+251\n",
      "[info] Writing video subtitles to: subs/FLd00Bx4tOk.en.vtt\n",
      "[download] Destination: subs/FLd00Bx4tOk.en.vtt\n",
      "[download] 100% of    4.33KiB in 00:00:00 at 154.73KiB/s\n",
      "[youtube] Extracting URL: https://www.youtube.com/watch?v=YxVZuuxxXxk\n",
      "[youtube] YxVZuuxxXxk: Downloading webpage\n",
      "[youtube] YxVZuuxxXxk: Downloading android player API JSON\n",
      "[info] YxVZuuxxXxk: Downloading 1 format(s): 248+251\n",
      "[info] There's no subtitles for the requested languages\n",
      "[youtube] Extracting URL: https://www.youtube.com/watch?v=74RnO_wHX7k\n",
      "[youtube] 74RnO_wHX7k: Downloading webpage\n",
      "[youtube] 74RnO_wHX7k: Downloading android player API JSON\n",
      "[info] 74RnO_wHX7k: Downloading 1 format(s): 248+251\n",
      "[info] There's no subtitles for the requested languages\n",
      "[youtube] Extracting URL: https://www.youtube.com/watch?v=hOTihLk4pfg\n",
      "[youtube] hOTihLk4pfg: Downloading webpage\n",
      "[youtube] hOTihLk4pfg: Downloading android player API JSON\n",
      "[info] hOTihLk4pfg: Downloading 1 format(s): 248+251\n",
      "[info] There's no subtitles for the requested languages\n",
      "[youtube] Extracting URL: https://www.youtube.com/watch?v=0W9lXaHcXL4\n",
      "[youtube] 0W9lXaHcXL4: Downloading webpage\n",
      "[youtube] 0W9lXaHcXL4: Downloading android player API JSON\n",
      "[info] 0W9lXaHcXL4: Downloading subtitles: en\n",
      "[info] 0W9lXaHcXL4: Downloading 1 format(s): 247+251\n",
      "[info] Writing video subtitles to: subs/0W9lXaHcXL4.en.vtt\n",
      "[download] Destination: subs/0W9lXaHcXL4.en.vtt\n",
      "[download] 100% of    2.24KiB in 00:00:00 at 86.05KiB/s\n",
      "[youtube] Extracting URL: https://www.youtube.com/watch?v=Y-Y9CXGRJPU\n",
      "[youtube] Y-Y9CXGRJPU: Downloading webpage\n",
      "[youtube] Y-Y9CXGRJPU: Downloading android player API JSON\n",
      "[info] Y-Y9CXGRJPU: Downloading subtitles: en\n",
      "[info] Y-Y9CXGRJPU: Downloading 1 format(s): 248+251\n",
      "[info] Writing video subtitles to: subs/Y-Y9CXGRJPU.en.vtt\n",
      "[download] Destination: subs/Y-Y9CXGRJPU.en.vtt\n",
      "[download] 100% of   11.16KiB in 00:00:00 at 377.77KiB/s\n",
      "[youtube] Extracting URL: https://www.youtube.com/watch?v=12UJvz0f-8k\n",
      "[youtube] 12UJvz0f-8k: Downloading webpage\n",
      "[youtube] 12UJvz0f-8k: Downloading android player API JSON\n",
      "[info] 12UJvz0f-8k: Downloading subtitles: en\n",
      "[info] 12UJvz0f-8k: Downloading 1 format(s): 248+251\n",
      "[info] Writing video subtitles to: subs/12UJvz0f-8k.en.vtt\n",
      "[download] Destination: subs/12UJvz0f-8k.en.vtt\n",
      "[download] 100% of    195.00B in 00:00:00 at 10.83KiB/s\n",
      "[youtube] Extracting URL: https://www.youtube.com/watch?v=u9f2iIOWnbg\n",
      "[youtube] u9f2iIOWnbg: Downloading webpage\n",
      "[youtube] u9f2iIOWnbg: Downloading android player API JSON\n",
      "[info] u9f2iIOWnbg: Downloading 1 format(s): 313+251\n",
      "[info] There's no subtitles for the requested languages\n",
      "[youtube] Extracting URL: https://www.youtube.com/watch?v=lnyZv9Vslts\n",
      "[youtube] lnyZv9Vslts: Downloading webpage\n",
      "[youtube] lnyZv9Vslts: Downloading android player API JSON\n",
      "[info] lnyZv9Vslts: Downloading subtitles: en\n",
      "[info] lnyZv9Vslts: Downloading 1 format(s): 248+251\n",
      "[info] Writing video subtitles to: subs/lnyZv9Vslts.en.vtt\n",
      "[download] Destination: subs/lnyZv9Vslts.en.vtt\n",
      "[download] 100% of    4.38KiB in 00:00:00 at 118.53KiB/s\n",
      "[youtube] Extracting URL: https://www.youtube.com/watch?v=qEowX-vOb4E\n",
      "[youtube] qEowX-vOb4E: Downloading webpage\n",
      "[youtube] qEowX-vOb4E: Downloading android player API JSON\n",
      "[info] qEowX-vOb4E: Downloading subtitles: en\n",
      "[info] qEowX-vOb4E: Downloading 1 format(s): 248+251\n",
      "[info] Writing video subtitles to: subs/qEowX-vOb4E.en.vtt\n",
      "[download] Destination: subs/qEowX-vOb4E.en.vtt\n",
      "[download] 100% of   13.87KiB in 00:00:00 at 364.18KiB/s\n",
      "[youtube] Extracting URL: https://www.youtube.com/watch?v=vihWettcK_c\n",
      "[youtube] vihWettcK_c: Downloading webpage\n",
      "[youtube] vihWettcK_c: Downloading android player API JSON\n",
      "[info] vihWettcK_c: Downloading subtitles: en\n",
      "[info] vihWettcK_c: Downloading 1 format(s): 248+251\n",
      "[info] Writing video subtitles to: subs/vihWettcK_c.en.vtt\n",
      "[download] Destination: subs/vihWettcK_c.en.vtt\n",
      "[download] 100% of    8.52KiB in 00:00:00 at 227.43KiB/s\n",
      "[youtube] Extracting URL: https://www.youtube.com/watch?v=TljuzkPcT_Q\n",
      "[youtube] TljuzkPcT_Q: Downloading webpage\n",
      "[youtube] TljuzkPcT_Q: Downloading android player API JSON\n",
      "[info] TljuzkPcT_Q: Downloading subtitles: en\n",
      "[info] TljuzkPcT_Q: Downloading 1 format(s): 248+251\n",
      "[info] Writing video subtitles to: subs/TljuzkPcT_Q.en.vtt\n",
      "[download] Destination: subs/TljuzkPcT_Q.en.vtt\n",
      "[download] 100% of    8.14KiB in 00:00:00 at 216.22KiB/s\n",
      "[youtube] Extracting URL: https://www.youtube.com/watch?v=GhbuhT1GDpI\n",
      "[youtube] GhbuhT1GDpI: Downloading webpage\n",
      "[youtube] GhbuhT1GDpI: Downloading android player API JSON\n",
      "[info] GhbuhT1GDpI: Downloading subtitles: en\n",
      "[info] GhbuhT1GDpI: Downloading 1 format(s): 248+251\n",
      "[info] Writing video subtitles to: subs/GhbuhT1GDpI.en.vtt\n",
      "[download] Destination: subs/GhbuhT1GDpI.en.vtt\n",
      "[download] 100% of    5.62KiB in 00:00:00 at 154.41KiB/s\n",
      "[youtube] Extracting URL: https://www.youtube.com/watch?v=EGeNKGosXA8\n",
      "[youtube] EGeNKGosXA8: Downloading webpage\n",
      "[youtube] EGeNKGosXA8: Downloading android player API JSON\n",
      "[info] EGeNKGosXA8: Downloading subtitles: en\n",
      "[info] EGeNKGosXA8: Downloading 1 format(s): 248+251\n",
      "[info] Writing video subtitles to: subs/EGeNKGosXA8.en.vtt\n",
      "[download] Destination: subs/EGeNKGosXA8.en.vtt\n",
      "[download] 100% of    9.47KiB in 00:00:00 at 174.45KiB/s\n",
      "[youtube] Extracting URL: https://www.youtube.com/watch?v=egKk_-xFq0M\n",
      "[youtube] egKk_-xFq0M: Downloading webpage\n",
      "[youtube] egKk_-xFq0M: Downloading android player API JSON\n",
      "[info] egKk_-xFq0M: Downloading 1 format(s): 313+251\n",
      "[info] There's no subtitles for the requested languages\n",
      "[youtube] Extracting URL: https://www.youtube.com/watch?v=_QWXjebXiWk\n",
      "[youtube] _QWXjebXiWk: Downloading webpage\n",
      "[youtube] _QWXjebXiWk: Downloading android player API JSON\n",
      "[info] _QWXjebXiWk: Downloading subtitles: en\n",
      "[info] _QWXjebXiWk: Downloading 1 format(s): 248+251\n",
      "[info] Writing video subtitles to: subs/_QWXjebXiWk.en.vtt\n",
      "[download] Destination: subs/_QWXjebXiWk.en.vtt\n",
      "[download] 100% of   18.99KiB in 00:00:00 at 354.89KiB/s\n",
      "[youtube] Extracting URL: https://www.youtube.com/watch?v=vcfNpDtVqOw\n",
      "[youtube] vcfNpDtVqOw: Downloading webpage\n",
      "[youtube] vcfNpDtVqOw: Downloading android player API JSON\n",
      "[info] vcfNpDtVqOw: Downloading 1 format(s): 248+251\n",
      "[info] There's no subtitles for the requested languages\n",
      "[youtube] Extracting URL: https://www.youtube.com/watch?v=jniJeamcIUU\n",
      "[youtube] jniJeamcIUU: Downloading webpage\n",
      "[youtube] jniJeamcIUU: Downloading android player API JSON\n",
      "[info] jniJeamcIUU: Downloading subtitles: en\n",
      "[info] jniJeamcIUU: Downloading 1 format(s): 313+251\n",
      "[info] Writing video subtitles to: subs/jniJeamcIUU.en.vtt\n",
      "[download] Destination: subs/jniJeamcIUU.en.vtt\n",
      "[download] 100% of   28.84KiB in 00:00:00 at 973.27KiB/s\n",
      "[youtube] Extracting URL: https://www.youtube.com/watch?v=72MFqM5iQ0Y\n",
      "[youtube] 72MFqM5iQ0Y: Downloading webpage\n",
      "[youtube] 72MFqM5iQ0Y: Downloading android player API JSON\n",
      "[info] 72MFqM5iQ0Y: Downloading 1 format(s): 248+251\n",
      "[info] There's no subtitles for the requested languages\n",
      "[youtube] Extracting URL: https://www.youtube.com/watch?v=vWWeDBgBrvo\n",
      "[youtube] vWWeDBgBrvo: Downloading webpage\n",
      "[youtube] vWWeDBgBrvo: Downloading android player API JSON\n",
      "[info] vWWeDBgBrvo: Downloading 1 format(s): 248+251\n",
      "[info] There's no subtitles for the requested languages\n",
      "[youtube] Extracting URL: https://www.youtube.com/watch?v=SnBo_DLszDo\n",
      "[youtube] SnBo_DLszDo: Downloading webpage\n",
      "[youtube] SnBo_DLszDo: Downloading android player API JSON\n",
      "[info] SnBo_DLszDo: Downloading 1 format(s): 247+251\n",
      "[info] There's no subtitles for the requested languages\n",
      "[youtube] Extracting URL: https://www.youtube.com/watch?v=GK7GObLUCWU\n",
      "[youtube] GK7GObLUCWU: Downloading webpage\n",
      "[youtube] GK7GObLUCWU: Downloading android player API JSON\n",
      "[info] GK7GObLUCWU: Downloading subtitles: en\n",
      "[info] GK7GObLUCWU: Downloading 1 format(s): 248+251\n",
      "[info] Writing video subtitles to: subs/GK7GObLUCWU.en.vtt\n",
      "[download] Destination: subs/GK7GObLUCWU.en.vtt\n",
      "[download] 100% of    6.47KiB in 00:00:00 at 264.51KiB/s\n",
      "[youtube] Extracting URL: https://www.youtube.com/watch?v=Ztwm0OTPqyI\n",
      "[youtube] Ztwm0OTPqyI: Downloading webpage\n",
      "[youtube] Ztwm0OTPqyI: Downloading android player API JSON\n",
      "[info] Ztwm0OTPqyI: Downloading subtitles: en\n",
      "[info] Ztwm0OTPqyI: Downloading 1 format(s): 308+251\n",
      "[info] Writing video subtitles to: subs/Ztwm0OTPqyI.en.vtt\n",
      "[download] Destination: subs/Ztwm0OTPqyI.en.vtt\n",
      "[download] 100% of   21.50KiB in 00:00:00 at 576.63KiB/s\n",
      "[youtube] Extracting URL: https://www.youtube.com/watch?v=zboZ-0VFRx4\n",
      "[youtube] zboZ-0VFRx4: Downloading webpage\n",
      "[youtube] zboZ-0VFRx4: Downloading android player API JSON\n",
      "[info] zboZ-0VFRx4: Downloading 1 format(s): 247+251\n",
      "[info] There's no subtitles for the requested languages\n",
      "[youtube] Extracting URL: https://www.youtube.com/watch?v=rthHkjuKapk\n",
      "[youtube] rthHkjuKapk: Downloading webpage\n",
      "[youtube] rthHkjuKapk: Downloading android player API JSON\n",
      "[info] rthHkjuKapk: Downloading subtitles: en\n",
      "[info] rthHkjuKapk: Downloading 1 format(s): 248+251\n",
      "[info] Writing video subtitles to: subs/rthHkjuKapk.en.vtt\n",
      "[download] Destination: subs/rthHkjuKapk.en.vtt\n",
      "[download] 100% of    1.22KiB in 00:00:00 at 42.74KiB/s\n",
      "[youtube] Extracting URL: https://www.youtube.com/watch?v=gMTZCXmLbXk\n",
      "[youtube] gMTZCXmLbXk: Downloading webpage\n",
      "[youtube] gMTZCXmLbXk: Downloading android player API JSON\n",
      "[info] gMTZCXmLbXk: Downloading subtitles: en\n",
      "[info] gMTZCXmLbXk: Downloading 1 format(s): 248+251\n",
      "[info] Writing video subtitles to: subs/gMTZCXmLbXk.en.vtt\n",
      "[download] Destination: subs/gMTZCXmLbXk.en.vtt\n",
      "[download] 100% of    4.66KiB in 00:00:00 at 148.36KiB/s\n",
      "[youtube] Extracting URL: https://www.youtube.com/watch?v=2FVfJTGpXnU\n",
      "[youtube] 2FVfJTGpXnU: Downloading webpage\n",
      "[youtube] 2FVfJTGpXnU: Downloading android player API JSON\n",
      "[info] 2FVfJTGpXnU: Downloading subtitles: en\n",
      "[info] 2FVfJTGpXnU: Downloading 1 format(s): 248+251\n",
      "[info] Writing video subtitles to: subs/2FVfJTGpXnU.en.vtt\n",
      "[download] Destination: subs/2FVfJTGpXnU.en.vtt\n",
      "[download] 100% of   26.93KiB in 00:00:00 at 662.41KiB/s\n",
      "[youtube] Extracting URL: https://www.youtube.com/watch?v=I-mWa_GqIEg\n",
      "[youtube] I-mWa_GqIEg: Downloading webpage\n",
      "[youtube] I-mWa_GqIEg: Downloading android player API JSON\n",
      "[info] I-mWa_GqIEg: Downloading 1 format(s): 248+251\n",
      "[info] There's no subtitles for the requested languages\n",
      "[youtube] Extracting URL: https://www.youtube.com/watch?v=L_dDUw_QuDU\n",
      "[youtube] L_dDUw_QuDU: Downloading webpage\n",
      "[youtube] L_dDUw_QuDU: Downloading android player API JSON\n",
      "[info] L_dDUw_QuDU: Downloading subtitles: en\n",
      "[info] L_dDUw_QuDU: Downloading 1 format(s): 248+251\n",
      "[info] Writing video subtitles to: subs/L_dDUw_QuDU.en.vtt\n",
      "[download] Destination: subs/L_dDUw_QuDU.en.vtt\n",
      "[download] 100% of   10.71KiB in 00:00:00 at 285.01KiB/s\n",
      "[youtube] Extracting URL: https://www.youtube.com/watch?v=zNTxSBgDNp4\n",
      "[youtube] zNTxSBgDNp4: Downloading webpage\n",
      "[youtube] zNTxSBgDNp4: Downloading android player API JSON\n",
      "[info] zNTxSBgDNp4: Downloading subtitles: en\n",
      "[info] zNTxSBgDNp4: Downloading 1 format(s): 248+251\n",
      "[info] Writing video subtitles to: subs/zNTxSBgDNp4.en.vtt\n",
      "[download] Destination: subs/zNTxSBgDNp4.en.vtt\n",
      "[download] 100% of    7.38KiB in 00:00:00 at 244.46KiB/s\n",
      "[youtube] Extracting URL: https://www.youtube.com/watch?v=VUTB89wHXk8\n",
      "[youtube] VUTB89wHXk8: Downloading webpage\n",
      "[youtube] VUTB89wHXk8: Downloading android player API JSON\n",
      "[info] VUTB89wHXk8: Downloading 1 format(s): 248+251\n",
      "[info] There's no subtitles for the requested languages\n",
      "[youtube] Extracting URL: https://www.youtube.com/watch?v=asZy0l7PbYM\n",
      "[youtube] asZy0l7PbYM: Downloading webpage\n",
      "[youtube] asZy0l7PbYM: Downloading android player API JSON\n",
      "[info] asZy0l7PbYM: Downloading 1 format(s): 244+251\n",
      "[info] There's no subtitles for the requested languages\n",
      "[youtube] Extracting URL: https://www.youtube.com/watch?v=on9nwbZngyw\n",
      "[youtube] on9nwbZngyw: Downloading webpage\n",
      "[youtube] on9nwbZngyw: Downloading android player API JSON\n",
      "[info] on9nwbZngyw: Downloading subtitles: en\n",
      "[info] on9nwbZngyw: Downloading 1 format(s): 303+251\n",
      "[info] Writing video subtitles to: subs/on9nwbZngyw.en.vtt\n",
      "[download] Destination: subs/on9nwbZngyw.en.vtt\n",
      "[download] 100% of   24.68KiB in 00:00:00 at 565.52KiB/s\n",
      "[youtube] Extracting URL: https://www.youtube.com/watch?v=uEddBGAGPi0\n",
      "[youtube] uEddBGAGPi0: Downloading webpage\n",
      "[youtube] uEddBGAGPi0: Downloading android player API JSON\n",
      "[info] uEddBGAGPi0: Downloading subtitles: en\n",
      "[info] uEddBGAGPi0: Downloading 1 format(s): 313+251\n",
      "[info] Writing video subtitles to: subs/uEddBGAGPi0.en.vtt\n",
      "[download] Destination: subs/uEddBGAGPi0.en.vtt\n",
      "[download] 100% of    4.67KiB in 00:00:00 at 125.78KiB/s\n",
      "[youtube] Extracting URL: https://www.youtube.com/watch?v=T8Jlod53BCU\n",
      "[youtube] T8Jlod53BCU: Downloading webpage\n",
      "[youtube] T8Jlod53BCU: Downloading android player API JSON\n",
      "[info] T8Jlod53BCU: Downloading 1 format(s): 315+251\n",
      "[info] There's no subtitles for the requested languages\n",
      "[youtube] Extracting URL: https://www.youtube.com/watch?v=iR64hfkGQeU\n",
      "[youtube] iR64hfkGQeU: Downloading webpage\n",
      "[youtube] iR64hfkGQeU: Downloading android player API JSON\n",
      "[info] iR64hfkGQeU: Downloading 1 format(s): 313+251\n",
      "[info] There's no subtitles for the requested languages\n",
      "[youtube] Extracting URL: https://www.youtube.com/watch?v=ff3IjiYs7K4\n",
      "[youtube] ff3IjiYs7K4: Downloading webpage\n",
      "[youtube] ff3IjiYs7K4: Downloading android player API JSON\n",
      "[info] ff3IjiYs7K4: Downloading subtitles: en\n",
      "[info] ff3IjiYs7K4: Downloading 1 format(s): 248+251\n",
      "[info] Writing video subtitles to: subs/ff3IjiYs7K4.en.vtt\n",
      "[download] Destination: subs/ff3IjiYs7K4.en.vtt\n",
      "[download] 100% of   11.80KiB in 00:00:00 at 308.74KiB/s\n",
      "[youtube] Extracting URL: https://www.youtube.com/watch?v=OzMYewdNJBA\n",
      "[youtube] OzMYewdNJBA: Downloading webpage\n",
      "[youtube] OzMYewdNJBA: Downloading android player API JSON\n",
      "[info] OzMYewdNJBA: Downloading subtitles: en\n",
      "[info] OzMYewdNJBA: Downloading 1 format(s): 313+251\n",
      "[info] Writing video subtitles to: subs/OzMYewdNJBA.en.vtt\n",
      "[download] Destination: subs/OzMYewdNJBA.en.vtt\n",
      "[download] 100% of   18.08KiB in 00:00:00 at 400.84KiB/s\n",
      "[youtube] Extracting URL: https://www.youtube.com/watch?v=jnHfDStLP5E\n",
      "[youtube] jnHfDStLP5E: Downloading webpage\n",
      "[youtube] jnHfDStLP5E: Downloading android player API JSON\n",
      "[info] jnHfDStLP5E: Downloading 1 format(s): 313+251\n",
      "[info] There's no subtitles for the requested languages\n",
      "[youtube] Extracting URL: https://www.youtube.com/watch?v=5RoWxdsF5Wc\n",
      "[youtube] 5RoWxdsF5Wc: Downloading webpage\n",
      "[youtube] 5RoWxdsF5Wc: Downloading android player API JSON\n",
      "[info] 5RoWxdsF5Wc: Downloading subtitles: en\n",
      "[info] 5RoWxdsF5Wc: Downloading 1 format(s): 248+251\n",
      "[info] Writing video subtitles to: subs/5RoWxdsF5Wc.en.vtt\n",
      "[download] Destination: subs/5RoWxdsF5Wc.en.vtt\n",
      "[download] 100% of    6.79KiB in 00:00:00 at 251.80KiB/s\n",
      "[youtube] Extracting URL: https://www.youtube.com/watch?v=qKU4nynlIgo\n",
      "[youtube] qKU4nynlIgo: Downloading webpage\n",
      "[youtube] qKU4nynlIgo: Downloading android player API JSON\n",
      "[info] qKU4nynlIgo: Downloading 1 format(s): 248+251\n",
      "[info] There's no subtitles for the requested languages\n",
      "[youtube] Extracting URL: https://www.youtube.com/watch?v=FREhiVYnLbA\n",
      "[youtube] FREhiVYnLbA: Downloading webpage\n",
      "[youtube] FREhiVYnLbA: Downloading android player API JSON\n",
      "[info] FREhiVYnLbA: Downloading subtitles: en\n",
      "[info] FREhiVYnLbA: Downloading 1 format(s): 248+251\n",
      "[info] Writing video subtitles to: subs/FREhiVYnLbA.en.vtt\n",
      "[download] Destination: subs/FREhiVYnLbA.en.vtt\n",
      "[download] 100% of   12.19KiB in 00:00:00 at 284.10KiB/s\n",
      "[youtube] Extracting URL: https://www.youtube.com/watch?v=DvAn-ijbdd8\n",
      "[youtube] DvAn-ijbdd8: Downloading webpage\n",
      "[youtube] DvAn-ijbdd8: Downloading android player API JSON\n",
      "[info] DvAn-ijbdd8: Downloading subtitles: en\n",
      "[info] DvAn-ijbdd8: Downloading 1 format(s): 248+251\n",
      "[info] Writing video subtitles to: subs/DvAn-ijbdd8.en.vtt\n",
      "[download] Destination: subs/DvAn-ijbdd8.en.vtt\n",
      "[download] 100% of    8.57KiB in 00:00:00 at 302.14KiB/s\n",
      "[youtube] Extracting URL: https://www.youtube.com/watch?v=uJwekkbGPns\n",
      "[youtube] uJwekkbGPns: Downloading webpage\n",
      "[youtube] uJwekkbGPns: Downloading android player API JSON\n",
      "[info] uJwekkbGPns: Downloading subtitles: en\n",
      "[info] uJwekkbGPns: Downloading 1 format(s): 248+251\n",
      "[info] Writing video subtitles to: subs/uJwekkbGPns.en.vtt\n",
      "[download] Destination: subs/uJwekkbGPns.en.vtt\n",
      "[download] 100% of    8.25KiB in 00:00:00 at 278.91KiB/s\n",
      "[youtube] Extracting URL: https://www.youtube.com/watch?v=n3sEl4bB3qU\n",
      "[youtube] n3sEl4bB3qU: Downloading webpage\n",
      "[youtube] n3sEl4bB3qU: Downloading android player API JSON\n",
      "[info] n3sEl4bB3qU: Downloading 1 format(s): 248+251\n",
      "[info] There's no subtitles for the requested languages\n",
      "[youtube] Extracting URL: https://www.youtube.com/watch?v=SR4R7GHxU1w\n",
      "[youtube] SR4R7GHxU1w: Downloading webpage\n",
      "[youtube] SR4R7GHxU1w: Downloading android player API JSON\n",
      "[info] SR4R7GHxU1w: Downloading 1 format(s): 248+251\n",
      "[info] There's no subtitles for the requested languages\n",
      "[youtube] Extracting URL: https://www.youtube.com/watch?v=ek53TQ9U35o\n",
      "[youtube] ek53TQ9U35o: Downloading webpage\n",
      "[youtube] ek53TQ9U35o: Downloading android player API JSON\n",
      "[info] ek53TQ9U35o: Downloading subtitles: en\n",
      "[info] ek53TQ9U35o: Downloading 1 format(s): 248+251\n",
      "[info] Writing video subtitles to: subs/ek53TQ9U35o.en.vtt\n",
      "[download] Destination: subs/ek53TQ9U35o.en.vtt\n",
      "[download] 100% of   69.00KiB in 00:00:00 at 1.15MiB/s\n",
      "[youtube] Extracting URL: https://www.youtube.com/watch?v=h4z-4owja-k\n",
      "[youtube] h4z-4owja-k: Downloading webpage\n",
      "[youtube] h4z-4owja-k: Downloading android player API JSON\n",
      "[info] h4z-4owja-k: Downloading subtitles: en\n",
      "[info] h4z-4owja-k: Downloading 1 format(s): 248+251\n",
      "[info] Writing video subtitles to: subs/h4z-4owja-k.en.vtt\n",
      "[download] Destination: subs/h4z-4owja-k.en.vtt\n",
      "[download] 100% of    2.94KiB in 00:00:00 at 103.67KiB/s\n",
      "[youtube] Extracting URL: https://www.youtube.com/watch?v=uA4KRfE_MNM\n",
      "[youtube] uA4KRfE_MNM: Downloading webpage\n",
      "[youtube] uA4KRfE_MNM: Downloading android player API JSON\n",
      "[info] uA4KRfE_MNM: Downloading subtitles: en\n",
      "[info] uA4KRfE_MNM: Downloading 1 format(s): 248+251\n",
      "[info] Writing video subtitles to: subs/uA4KRfE_MNM.en.vtt\n",
      "[download] Destination: subs/uA4KRfE_MNM.en.vtt\n",
      "[download] 100% of   15.96KiB in 00:00:00 at 457.63KiB/s\n",
      "[youtube] Extracting URL: https://www.youtube.com/watch?v=PwfBGkBXkFA\n",
      "[youtube] PwfBGkBXkFA: Downloading webpage\n",
      "[youtube] PwfBGkBXkFA: Downloading android player API JSON\n",
      "[info] PwfBGkBXkFA: Downloading subtitles: en\n",
      "[info] PwfBGkBXkFA: Downloading 1 format(s): 248+251\n",
      "[info] Writing video subtitles to: subs/PwfBGkBXkFA.en.vtt\n",
      "[download] Destination: subs/PwfBGkBXkFA.en.vtt\n",
      "[download] 100% of    3.76KiB in 00:00:00 at 137.00KiB/s\n",
      "[youtube] Extracting URL: https://www.youtube.com/watch?v=MW1GiQseu8E\n",
      "[youtube] MW1GiQseu8E: Downloading webpage\n",
      "[youtube] MW1GiQseu8E: Downloading android player API JSON\n",
      "[info] MW1GiQseu8E: Downloading 1 format(s): 248+251\n",
      "[info] There's no subtitles for the requested languages\n",
      "[youtube] Extracting URL: https://www.youtube.com/watch?v=77UDwgod9YM\n",
      "[youtube] 77UDwgod9YM: Downloading webpage\n",
      "[youtube] 77UDwgod9YM: Downloading android player API JSON\n",
      "[info] 77UDwgod9YM: Downloading subtitles: en\n",
      "[info] 77UDwgod9YM: Downloading 1 format(s): 248+251\n",
      "[info] Writing video subtitles to: subs/77UDwgod9YM.en.vtt\n",
      "[download] Destination: subs/77UDwgod9YM.en.vtt\n",
      "[download] 100% of   13.50KiB in 00:00:00 at 420.88KiB/s\n",
      "[youtube] Extracting URL: https://www.youtube.com/watch?v=nPg7Ivcm32g\n",
      "[youtube] nPg7Ivcm32g: Downloading webpage\n",
      "[youtube] nPg7Ivcm32g: Downloading android player API JSON\n",
      "[info] nPg7Ivcm32g: Downloading 1 format(s): 248+251\n",
      "[info] There's no subtitles for the requested languages\n",
      "[youtube] Extracting URL: https://www.youtube.com/watch?v=50hG_azZ7AA\n",
      "[youtube] 50hG_azZ7AA: Downloading webpage\n",
      "[youtube] 50hG_azZ7AA: Downloading android player API JSON\n",
      "[info] 50hG_azZ7AA: Downloading 1 format(s): 248+251\n",
      "[info] There's no subtitles for the requested languages\n",
      "[youtube] Extracting URL: https://www.youtube.com/watch?v=wTtX_SuBSyI\n",
      "[youtube] wTtX_SuBSyI: Downloading webpage\n",
      "[youtube] wTtX_SuBSyI: Downloading android player API JSON\n",
      "[info] wTtX_SuBSyI: Downloading subtitles: en\n",
      "[info] wTtX_SuBSyI: Downloading 1 format(s): 248+251\n",
      "[info] Writing video subtitles to: subs/wTtX_SuBSyI.en.vtt\n",
      "[download] Destination: subs/wTtX_SuBSyI.en.vtt\n",
      "[download] 100% of   16.01KiB in 00:00:00 at 523.01KiB/s\n",
      "[youtube] Extracting URL: https://www.youtube.com/watch?v=RkRyMwwVXfU\n",
      "[youtube] RkRyMwwVXfU: Downloading webpage\n",
      "[youtube] RkRyMwwVXfU: Downloading android player API JSON\n",
      "[info] RkRyMwwVXfU: Downloading 1 format(s): 248+251\n",
      "[info] There's no subtitles for the requested languages\n",
      "[youtube] Extracting URL: https://www.youtube.com/watch?v=9Uk9PW1_eSo\n",
      "[youtube] 9Uk9PW1_eSo: Downloading webpage\n",
      "[youtube] 9Uk9PW1_eSo: Downloading android player API JSON\n",
      "[info] 9Uk9PW1_eSo: Downloading subtitles: en\n",
      "[info] 9Uk9PW1_eSo: Downloading 1 format(s): 303+251\n",
      "[info] Writing video subtitles to: subs/9Uk9PW1_eSo.en.vtt\n",
      "[download] Destination: subs/9Uk9PW1_eSo.en.vtt\n",
      "[download] 100% of   24.95KiB in 00:00:00 at 598.91KiB/s\n",
      "[youtube] Extracting URL: https://www.youtube.com/watch?v=un8j6QqpYa0\n",
      "[youtube] un8j6QqpYa0: Downloading webpage\n",
      "[youtube] un8j6QqpYa0: Downloading android player API JSON\n",
      "[info] un8j6QqpYa0: Downloading subtitles: en\n",
      "[info] un8j6QqpYa0: Downloading 1 format(s): 248+251\n",
      "[info] Writing video subtitles to: subs/un8j6QqpYa0.en.vtt\n",
      "[download] Destination: subs/un8j6QqpYa0.en.vtt\n",
      "[download] 100% of   12.03KiB in 00:00:00 at 347.15KiB/s\n",
      "[youtube] Extracting URL: https://www.youtube.com/watch?v=ZIt1tBGbQec\n",
      "[youtube] ZIt1tBGbQec: Downloading webpage\n",
      "[youtube] ZIt1tBGbQec: Downloading android player API JSON\n",
      "[info] ZIt1tBGbQec: Downloading 1 format(s): 248+251\n",
      "[info] There's no subtitles for the requested languages\n",
      "[youtube] Extracting URL: https://www.youtube.com/watch?v=f2wuhcWnk-k\n",
      "[youtube] f2wuhcWnk-k: Downloading webpage\n",
      "[youtube] f2wuhcWnk-k: Downloading android player API JSON\n",
      "[info] f2wuhcWnk-k: Downloading 1 format(s): 313+251\n",
      "[info] There's no subtitles for the requested languages\n",
      "[youtube] Extracting URL: https://www.youtube.com/watch?v=8vFGrNjT4P4\n",
      "[youtube] 8vFGrNjT4P4: Downloading webpage\n",
      "[youtube] 8vFGrNjT4P4: Downloading android player API JSON\n",
      "[info] 8vFGrNjT4P4: Downloading subtitles: en\n",
      "[info] 8vFGrNjT4P4: Downloading 1 format(s): 248+251\n",
      "[info] Writing video subtitles to: subs/8vFGrNjT4P4.en.vtt\n",
      "[download] Destination: subs/8vFGrNjT4P4.en.vtt\n",
      "[download] 100% of   10.88KiB in 00:00:00 at 348.85KiB/s\n",
      "[youtube] Extracting URL: https://www.youtube.com/watch?v=yyi55ZrpJ0E\n",
      "[youtube] yyi55ZrpJ0E: Downloading webpage\n",
      "[youtube] yyi55ZrpJ0E: Downloading android player API JSON\n",
      "[info] yyi55ZrpJ0E: Downloading 1 format(s): 313+251\n",
      "[info] There's no subtitles for the requested languages\n",
      "[youtube] Extracting URL: https://www.youtube.com/watch?v=m_fu5RaXMVk\n",
      "[youtube] m_fu5RaXMVk: Downloading webpage\n",
      "[youtube] m_fu5RaXMVk: Downloading android player API JSON\n",
      "[info] m_fu5RaXMVk: Downloading 1 format(s): 248+251\n",
      "[info] There's no subtitles for the requested languages\n",
      "[youtube] Extracting URL: https://www.youtube.com/watch?v=vGE-RfP6KRE\n",
      "[youtube] vGE-RfP6KRE: Downloading webpage\n",
      "[youtube] vGE-RfP6KRE: Downloading android player API JSON\n",
      "[info] vGE-RfP6KRE: Downloading 1 format(s): 248+251\n",
      "[info] There's no subtitles for the requested languages\n",
      "[youtube] Extracting URL: https://www.youtube.com/watch?v=Q3xg35pcLyo\n",
      "[youtube] Q3xg35pcLyo: Downloading webpage\n",
      "[youtube] Q3xg35pcLyo: Downloading android player API JSON\n",
      "[info] Q3xg35pcLyo: Downloading subtitles: en\n",
      "[info] Q3xg35pcLyo: Downloading 1 format(s): 248+251\n",
      "[info] Writing video subtitles to: subs/Q3xg35pcLyo.en.vtt\n",
      "[download] Destination: subs/Q3xg35pcLyo.en.vtt\n",
      "[download] 100% of   10.83KiB in 00:00:00 at 289.74KiB/s\n",
      "[youtube] Extracting URL: https://www.youtube.com/watch?v=X9vjsM6w8AI\n",
      "[youtube] X9vjsM6w8AI: Downloading webpage\n",
      "[youtube] X9vjsM6w8AI: Downloading android player API JSON\n",
      "[info] X9vjsM6w8AI: Downloading subtitles: en\n",
      "[info] X9vjsM6w8AI: Downloading 1 format(s): 313+251\n",
      "[info] Writing video subtitles to: subs/X9vjsM6w8AI.en.vtt\n",
      "[download] Destination: subs/X9vjsM6w8AI.en.vtt\n",
      "[download] 100% of   11.71KiB in 00:00:00 at 420.94KiB/s\n",
      "[youtube] Extracting URL: https://www.youtube.com/watch?v=JgzkfO8nYKo\n",
      "[youtube] JgzkfO8nYKo: Downloading webpage\n",
      "[youtube] JgzkfO8nYKo: Downloading android player API JSON\n",
      "[info] JgzkfO8nYKo: Downloading 1 format(s): 248+251\n",
      "[info] There's no subtitles for the requested languages\n"
     ]
    },
    {
     "data": {
      "text/plain": [
       "0"
      ]
     },
     "execution_count": 6,
     "metadata": {},
     "output_type": "execute_result"
    }
   ],
   "source": [
    "import yt_dlp\n",
    "\n",
    "video_urls = []\n",
    "for index, row in df.iterrows():\n",
    "    video_urls.append(row[\"url\"])\n",
    "\n",
    "ydl_opts = {\n",
    "    'writesubtitles': True,\n",
    "    'subtitlesformat': 'vtt',\n",
    "    'subtitleslangs': ['en'], # choose subtitle language (en for English)\n",
    "    'outtmpl': 'subs/%(id)s.%(ext)s',\n",
    "    'skip_download': True,\n",
    "}\n",
    "\n",
    "ydl = yt_dlp.YoutubeDL(ydl_opts)\n",
    "ydl.download(video_urls)"
   ]
  },
  {
   "cell_type": "code",
   "execution_count": null,
   "metadata": {
    "id": "UoIrEtj0PqEa"
   },
   "outputs": [],
   "source": [
    "labels = []\n",
    "videos_df = pd.DataFrame(columns=[\"name\", \"url\", \"duration\", \"id\"])\n",
    "count = 0\n",
    "\n",
    "for index, row in df.iterrows():\n",
    "    flag = False\n",
    "    video_id = row[\"id\"]\n",
    "    video_url = row[\"url\"]\n",
    "\n",
    "    file_path = f\"subs/{video_id}.en.vtt\"\n",
    "    captions = []\n",
    "    if os.path.exists(file_path):\n",
    "        captions = webvtt.read(file_path)\n",
    "\n",
    "    for caption in captions:\n",
    "        text = caption.text.strip()\n",
    "        duration = caption.end_in_seconds - caption.start_in_seconds\n",
    "\n",
    "        if len(text) > 20:\n",
    "            labels.append((video_id, video_url, text, duration, caption.start_in_seconds, caption.end_in_seconds))\n",
    "            flag = True\n",
    "\n",
    "    if flag:\n",
    "        videos_df.loc[count] = [row[\"name\"], row[\"url\"], row[\"duration\"], row[\"id\"]]\n",
    "        count += 1\n",
    "\n",
    "labels_df = pd.DataFrame(labels, columns=[\"id\", \"video_url\", \"text\", \"duration\", \"start\", \"end\"])\n",
    "\n",
    "labels_df.to_csv(\"labels.csv\", index=False)\n",
    "videos_df.to_csv(\"youtube_videos.csv\", index=False)"
   ]
  },
  {
   "cell_type": "markdown",
   "metadata": {
    "id": "8MgVniqTxHGx"
   },
   "source": [
    "# **Data collection and automatic labeling for dense video captioning models**"
   ]
  },
  {
   "cell_type": "markdown",
   "metadata": {
    "id": "GJi5bZa0lX7b"
   },
   "source": [
    "### imports and settings"
   ]
  },
  {
   "cell_type": "code",
   "execution_count": null,
   "metadata": {
    "colab": {
     "base_uri": "https://localhost:8080/"
    },
    "id": "PpqG7boWQaCl",
    "outputId": "d318a12b-a3fe-4fe6-df42-11286f325f0a"
   },
   "outputs": [
    {
     "output_type": "stream",
     "name": "stdout",
     "text": [
      "Collecting ijson\n",
      "  Downloading ijson-3.2.3-cp310-cp310-manylinux_2_17_x86_64.manylinux2014_x86_64.whl (111 kB)\n",
      "\u001B[2K     \u001B[90m━━━━━━━━━━━━━━━━━━━━━━━━━━━━━━━━━━━━━━━\u001B[0m \u001B[32m111.8/111.8 kB\u001B[0m \u001B[31m3.4 MB/s\u001B[0m eta \u001B[36m0:00:00\u001B[0m\n",
      "\u001B[?25hInstalling collected packages: ijson\n",
      "Successfully installed ijson-3.2.3\n",
      "Collecting isodate\n",
      "  Downloading isodate-0.6.1-py2.py3-none-any.whl (41 kB)\n",
      "\u001B[2K     \u001B[90m━━━━━━━━━━━━━━━━━━━━━━━━━━━━━━━━━━━━━━━━\u001B[0m \u001B[32m41.7/41.7 kB\u001B[0m \u001B[31m1.2 MB/s\u001B[0m eta \u001B[36m0:00:00\u001B[0m\n",
      "\u001B[?25hRequirement already satisfied: six in /usr/local/lib/python3.10/dist-packages (from isodate) (1.16.0)\n",
      "Installing collected packages: isodate\n",
      "Successfully installed isodate-0.6.1\n",
      "Collecting remotezip\n",
      "  Downloading remotezip-0.12.1.tar.gz (7.5 kB)\n",
      "  Preparing metadata (setup.py) ... \u001B[?25l\u001B[?25hdone\n",
      "Requirement already satisfied: requests in /usr/local/lib/python3.10/dist-packages (from remotezip) (2.31.0)\n",
      "Requirement already satisfied: tabulate in /usr/local/lib/python3.10/dist-packages (from remotezip) (0.9.0)\n",
      "Requirement already satisfied: charset-normalizer<4,>=2 in /usr/local/lib/python3.10/dist-packages (from requests->remotezip) (3.2.0)\n",
      "Requirement already satisfied: idna<4,>=2.5 in /usr/local/lib/python3.10/dist-packages (from requests->remotezip) (3.4)\n",
      "Requirement already satisfied: urllib3<3,>=1.21.1 in /usr/local/lib/python3.10/dist-packages (from requests->remotezip) (2.0.4)\n",
      "Requirement already satisfied: certifi>=2017.4.17 in /usr/local/lib/python3.10/dist-packages (from requests->remotezip) (2023.7.22)\n",
      "Building wheels for collected packages: remotezip\n",
      "  Building wheel for remotezip (setup.py) ... \u001B[?25l\u001B[?25hdone\n",
      "  Created wheel for remotezip: filename=remotezip-0.12.1-py3-none-any.whl size=7934 sha256=230cce71544503d2938968c74bbed6021cb33d35fb9e3fc94ed08ae9ebf91bb2\n",
      "  Stored in directory: /root/.cache/pip/wheels/fc/76/04/beed1a6df4eb7430ee13c3900746edd517e5e597298d1f73f3\n",
      "Successfully built remotezip\n",
      "Installing collected packages: remotezip\n",
      "Successfully installed remotezip-0.12.1\n"
     ]
    }
   ],
   "source": [
    "BRANCH = 'main'\n",
    "!pip install ijson\n",
    "!pip install isodate\n",
    "!pip install remotezip"
   ]
  },
  {
   "cell_type": "code",
   "execution_count": null,
   "metadata": {
    "id": "970OFlF6OUyF",
    "colab": {
     "base_uri": "https://localhost:8080/"
    },
    "outputId": "ac73d2fe-fadc-46e7-a5c3-6c5641ea67d4"
   },
   "outputs": [
    {
     "output_type": "stream",
     "name": "stderr",
     "text": [
      "[nltk_data] Downloading package stopwords to /root/nltk_data...\n",
      "[nltk_data]   Unzipping corpora/stopwords.zip.\n",
      "[nltk_data] Downloading package wordnet to /root/nltk_data...\n",
      "[nltk_data] Downloading package punkt to /root/nltk_data...\n",
      "[nltk_data]   Unzipping tokenizers/punkt.zip.\n",
      "[nltk_data] Downloading package averaged_perceptron_tagger to\n",
      "[nltk_data]     /root/nltk_data...\n",
      "[nltk_data]   Unzipping taggers/averaged_perceptron_tagger.zip.\n"
     ]
    },
    {
     "output_type": "execute_result",
     "data": {
      "text/plain": [
       "True"
      ]
     },
     "metadata": {},
     "execution_count": 3
    }
   ],
   "source": [
    "import pandas as pd\n",
    "import ijson\n",
    "from tqdm import tqdm\n",
    "import ast\n",
    "import os\n",
    "import re\n",
    "import csv\n",
    "import gc\n",
    "import requests\n",
    "import json\n",
    "import datetime\n",
    "import isodate\n",
    "import remotezip as rz\n",
    "from urllib.parse import urlparse\n",
    "\n",
    "\n",
    "import nltk\n",
    "nltk.download('stopwords')\n",
    "nltk.download('wordnet')\n",
    "nltk.download('punkt')\n",
    "nltk.download('averaged_perceptron_tagger')"
   ]
  },
  {
   "cell_type": "markdown",
   "source": [
    "Nemo"
   ],
   "metadata": {
    "id": "qWUhOd7aeZqa"
   }
  },
  {
   "cell_type": "code",
   "source": [
    "!pip install git+https://github.com/NVIDIA/NeMo.git@$BRANCH#egg=nemo_toolkit[nlp]\n",
    "\n",
    "from nemo.collections.nlp.models import PunctuationCapitalizationModel\n",
    "\n",
    "# to get the list of pre-trained models\n",
    "PunctuationCapitalizationModel.list_available_models()\n",
    "\n",
    "# Download and load the pre-trained BERT-based model\n",
    "punctuation_model = PunctuationCapitalizationModel.from_pretrained(\"punctuation_en_bert\")"
   ],
   "metadata": {
    "id": "GBc2XixDb6di"
   },
   "execution_count": null,
   "outputs": []
  },
  {
   "cell_type": "markdown",
   "metadata": {
    "id": "zDUJIRCC7GDA"
   },
   "source": [
    "## 1. Extract key moments from video descriptions using Youtube api"
   ]
  },
  {
   "cell_type": "markdown",
   "metadata": {
    "id": "RnGopUlslcKo"
   },
   "source": [
    "### extract cooking videos list"
   ]
  },
  {
   "cell_type": "code",
   "execution_count": null,
   "metadata": {
    "id": "8bHRQefGkvm2"
   },
   "outputs": [],
   "source": [
    "ht100mv1 = pd.read_csv(base_dir + 'HowTo100M_v1.csv', index_col=0)\n",
    "cooking_cat2_list = ['Recipes', 'Food Preparation', 'Holiday Cooking', 'Cooking for Children']\n",
    "video_ids_list = list(ht100mv1[ht100mv1.category_2.isin(cooking_cat2_list)].index)\n",
    "\n",
    "df = pd.DataFrame(video_ids_list, columns=['keys'])\n",
    "df.to_csv(base_dir + 'cooking_videos.csv')"
   ]
  },
  {
   "cell_type": "markdown",
   "metadata": {
    "id": "CgdAzMPtirGI"
   },
   "source": [
    "### key moments"
   ]
  },
  {
   "cell_type": "code",
   "execution_count": null,
   "metadata": {
    "id": "DXcAxvdNi7Uy"
   },
   "outputs": [],
   "source": [
    "api_key = \"XXX\""
   ]
  },
  {
   "cell_type": "code",
   "execution_count": null,
   "metadata": {
    "id": "SMyJk7bu3VXw"
   },
   "outputs": [],
   "source": [
    "def extract_chapters_from_description(description, duration):\n",
    "    chapters = []\n",
    "    lines = description.split(\"\\n\")\n",
    "    for line in lines:\n",
    "        re_time = re.search(r\"(\\d{2}:)?\\d{2}:\\d{2}\", line)\n",
    "        if re_time:\n",
    "            time = re_time.group()\n",
    "            before = line[:re_time.start()].strip()\n",
    "            after = line[re_time.end():].strip()\n",
    "\n",
    "            if before.endswith(\"-\"):\n",
    "                before = before[:-1].strip()\n",
    "            if after.startswith(\"-\"):\n",
    "                after = after[1:].strip()\n",
    "\n",
    "            title = before + \".\" + after\n",
    "            title = title.strip('.')\n",
    "            chapters.append((title, time))\n",
    "\n",
    "    if len(chapters) < 3:\n",
    "        return []\n",
    "    # if chapters[0][1] != \"00:00\" or chapters[0][1] != \"00:00:00\":\n",
    "    #     return []\n",
    "\n",
    "    prev_time = datetime.timedelta(seconds=sum(int(x) * 60 ** i for i, x in enumerate(reversed(chapters[0][1].split(\":\")))))\n",
    "    valid_chapters = [(chapters[0][0], prev_time)]\n",
    "    for chapter in chapters:\n",
    "        curr_time_str = chapter[1]\n",
    "        curr_time = datetime.timedelta(seconds=sum(int(x) * 60 ** i for i, x in enumerate(reversed(curr_time_str.split(\":\")))))\n",
    "        if curr_time > prev_time and curr_time.total_seconds() < duration:\n",
    "            valid_chapters.append((chapter[0], curr_time))\n",
    "            prev_time = curr_time\n",
    "\n",
    "    return valid_chapters\n",
    "\n",
    "\n",
    "def get_chapters(video_id):\n",
    "    response = requests.get(f\"https://www.googleapis.com/youtube/v3/videos?part=snippet,contentDetails&id={video_id}&key={api_key}\")\n",
    "    data = response.json()\n",
    "    print(data)\n",
    "\n",
    "    try:\n",
    "        description = data[\"items\"][0][\"snippet\"][\"description\"]\n",
    "        description = description.replace(\"\\r\", \"\")\n",
    "        duration = data[\"items\"][0][\"contentDetails\"][\"duration\"]\n",
    "    except Exception as e:\n",
    "        return []\n",
    "    duration = isodate.parse_duration(duration).total_seconds()\n",
    "\n",
    "    chapters = extract_chapters_from_description(description, duration)\n",
    "    final_chapters = []\n",
    "    for chapter in chapters:\n",
    "        final_chapters.append({'title': chapter[0], 'time': chapter[1]})\n",
    "\n",
    "    return final_chapters"
   ]
  },
  {
   "cell_type": "code",
   "execution_count": null,
   "metadata": {
    "id": "nGH3P_GZCgpP"
   },
   "outputs": [],
   "source": [
    "data_with_key_moment = {'id': [], 'chapters': []}\n",
    "for i in tqdm(range(len(df['keys']))):\n",
    "    key = df['keys'][i]\n",
    "    chapters = get_chapters(key)\n",
    "\n",
    "    if chapters:\n",
    "        data_with_key_moment['id'].append(key)\n",
    "        data_with_key_moment['chapters'].append(chapters)\n",
    "\n",
    "    if i % 500 == 499:\n",
    "        df_dwkm = pd.DataFrame.from_dict(data_with_key_moment)\n",
    "        df_dwkm.to_csv(base_dir + 'data_with_key_moment.csv',\n",
    "                       mode='a', header=not os.path.exists(base_dir + 'data_with_key_moment.csv'), index=False)\n",
    "        data_with_key_moment = {'id': [], 'chapters': []}"
   ]
  },
  {
   "cell_type": "code",
   "execution_count": null,
   "metadata": {
    "id": "gaamS2ZbitfY"
   },
   "outputs": [],
   "source": [
    "df_dwkm = pd.DataFrame.from_dict(data_with_key_moment)\n",
    "df_dwkm.to_csv(base_dir + 'data_with_key_moment.csv')"
   ]
  },
  {
   "cell_type": "markdown",
   "metadata": {
    "id": "ujepfixF7ymN"
   },
   "source": [
    "## 2. Punctuate raw video transcripts and extract most important sentences using action verbs from it"
   ]
  },
  {
   "cell_type": "markdown",
   "metadata": {
    "id": "ubqjU2bBpA2o"
   },
   "source": [
    "### Extract time of each word"
   ]
  },
  {
   "cell_type": "code",
   "execution_count": null,
   "metadata": {
    "colab": {
     "base_uri": "https://localhost:8080/"
    },
    "id": "Xu2T7OmxnZVW",
    "outputId": "bf9d52bd-8e08-4665-8653-1eed6c573ab6"
   },
   "outputs": [
    {
     "name": "stdout",
     "output_type": "stream",
     "text": [
      "Archive:  drive/MyDrive/University/01022-Final-Project/raw_caption_superclean.zip\n",
      "replace raw_caption_superclean.json? [y]es, [n]o, [A]ll, [N]one, [r]ename: n\n"
     ]
    }
   ],
   "source": [
    "!unzip $base_dir\"raw_caption_superclean.zip\""
   ]
  },
  {
   "cell_type": "code",
   "execution_count": null,
   "metadata": {
    "id": "PbO4A8GikDeq"
   },
   "outputs": [],
   "source": [
    "data = ijson.parse(open('raw_caption_superclean.json', 'r'))\n",
    "\n",
    "BATCH = 1000\n",
    "\n",
    "current_key = ''\n",
    "current_data = {'text': [], 'start': [], 'end': []}\n",
    "processed_data = {'id': [], 'text': [], 'times': []}\n",
    "\n",
    "cooking_videos = list(pd.read_csv(base_dir + 'cooking_videos.csv')['keys'])"
   ]
  },
  {
   "cell_type": "code",
   "execution_count": null,
   "metadata": {
    "id": "VTR3mJEpkNls"
   },
   "outputs": [],
   "source": [
    "def calculate_time(processed_data, key, data):\n",
    "    text = ''\n",
    "    times = []\n",
    "    for i, sentence in enumerate(data['text']):\n",
    "        split_sentence = sentence.split()\n",
    "        start = data['start'][i]\n",
    "        end = data['end'][i]\n",
    "        for j, word in enumerate(split_sentence):\n",
    "            times.append(round(start + ((end - start) / len(split_sentence)) * j, 2))\n",
    "        if i != 0:\n",
    "            text += ' '\n",
    "        text += sentence\n",
    "    processed_data['id'].append(key)\n",
    "    processed_data['text'].append(text)\n",
    "    processed_data['times'].append(times)"
   ]
  },
  {
   "cell_type": "code",
   "execution_count": null,
   "metadata": {
    "colab": {
     "base_uri": "https://localhost:8080/"
    },
    "id": "yhDMEIfVRtEI",
    "outputId": "bd8ee6e6-f3c2-4a81-ffea-7a2ae52dd595"
   },
   "outputs": [
    {
     "data": {
      "text/plain": [
       "376076"
      ]
     },
     "execution_count": 23,
     "metadata": {},
     "output_type": "execute_result"
    }
   ],
   "source": [
    "len(cooking_videos)"
   ]
  },
  {
   "cell_type": "code",
   "execution_count": null,
   "metadata": {
    "id": "uxE7OrQFkP1m"
   },
   "outputs": [],
   "source": [
    "it = 1\n",
    "with tqdm(total=376076) as progress_bar:\n",
    "    for prefix, event, value in data:\n",
    "        if prefix == '':\n",
    "            if current_key != '':\n",
    "\n",
    "                if current_key in cooking_videos:\n",
    "                    calculate_time(processed_data, current_key, current_data)\n",
    "                    it += 1\n",
    "                    progress_bar.update()\n",
    "\n",
    "                    if it % BATCH == 0:\n",
    "                        df = pd.DataFrame.from_dict(processed_data)\n",
    "                        df.to_csv('time_extracted_data.csv', mode='a',\n",
    "                                  header=not os.path.exists('time_extracted_data.csv'), index=False)\n",
    "\n",
    "                        processed_data = {'id': [], 'text': [], 'times': []}\n",
    "\n",
    "            current_key = ''\n",
    "            current_data = {'text': [], 'start': [], 'end': []}\n",
    "            continue\n",
    "        else:\n",
    "            if current_key == '':\n",
    "                current_key = prefix\n",
    "            if prefix.endswith('.text.item'):\n",
    "                current_data['text'].append(value)\n",
    "            elif prefix.endswith('.start.item'):\n",
    "                current_data['start'].append(value)\n",
    "            elif prefix.endswith('.end.item'):\n",
    "                current_data['end'].append(value)"
   ]
  },
  {
   "cell_type": "code",
   "execution_count": null,
   "metadata": {
    "id": "n0C9XKsKDO9Q"
   },
   "outputs": [],
   "source": [
    "!zip $base_dir\"time_extracted_data.zip\" \"time_extracted_data.csv\""
   ]
  },
  {
   "cell_type": "markdown",
   "metadata": {
    "id": "3cvlF5CfqRjK"
   },
   "source": [
    "### Add punctuation"
   ]
  },
  {
   "cell_type": "code",
   "execution_count": null,
   "metadata": {
    "colab": {
     "base_uri": "https://localhost:8080/"
    },
    "id": "Xcz9K3ulrGZf",
    "outputId": "06d911ec-9c88-4a4d-e5a4-4c3ada91f811"
   },
   "outputs": [
    {
     "name": "stdout",
     "output_type": "stream",
     "text": [
      "Archive:  drive/MyDrive/University/01022-Final-Project/time_extracted_data.zip\n",
      "  inflating: time_extracted_data.csv  \n"
     ]
    }
   ],
   "source": [
    "!unzip $base_dir\"time_extracted_data.zip\""
   ]
  },
  {
   "cell_type": "code",
   "execution_count": null,
   "metadata": {
    "colab": {
     "base_uri": "https://localhost:8080/"
    },
    "id": "dqwmiYdrrc4C",
    "outputId": "ee8b2fd6-f5a6-49ab-dd85-9803fb4b1bef"
   },
   "outputs": [
    {
     "name": "stdout",
     "output_type": "stream",
     "text": [
      "[NeMo I 2023-09-06 13:39:28 punctuation_capitalization_infer_dataset:127] Max length: 64\n",
      "[NeMo I 2023-09-06 13:39:28 data_preprocessing:404] Some stats of the lengths of the sequences:\n",
      "[NeMo I 2023-09-06 13:39:28 data_preprocessing:406] Min: 100 |                  Max: 3252 |                  Mean: 726.399 |                  Median: 642.5\n",
      "[NeMo I 2023-09-06 13:39:28 data_preprocessing:412] 75 percentile: 943.00\n",
      "[NeMo I 2023-09-06 13:39:28 data_preprocessing:413] 99 percentile: 2102.21\n"
     ]
    },
    {
     "name": "stderr",
     "output_type": "stream",
     "text": [
      "100%|██████████| 1690/1690 [05:35<00:00,  5.03batch/s]\n"
     ]
    },
    {
     "name": "stdout",
     "output_type": "stream",
     "text": [
      "[NeMo I 2023-09-06 13:46:38 punctuation_capitalization_infer_dataset:127] Max length: 64\n",
      "[NeMo I 2023-09-06 13:46:38 data_preprocessing:404] Some stats of the lengths of the sequences:\n",
      "[NeMo I 2023-09-06 13:46:38 data_preprocessing:406] Min: 104 |                  Max: 2571 |                  Mean: 726.047 |                  Median: 634.0\n",
      "[NeMo I 2023-09-06 13:46:38 data_preprocessing:412] 75 percentile: 971.25\n",
      "[NeMo I 2023-09-06 13:46:38 data_preprocessing:413] 99 percentile: 1983.26\n"
     ]
    },
    {
     "name": "stderr",
     "output_type": "stream",
     "text": [
      "100%|██████████| 1689/1689 [05:34<00:00,  5.05batch/s]\n"
     ]
    },
    {
     "name": "stdout",
     "output_type": "stream",
     "text": [
      "[NeMo I 2023-09-06 13:53:42 punctuation_capitalization_infer_dataset:127] Max length: 64\n",
      "[NeMo I 2023-09-06 13:53:42 data_preprocessing:404] Some stats of the lengths of the sequences:\n",
      "[NeMo I 2023-09-06 13:53:42 data_preprocessing:406] Min: 88 |                  Max: 2351 |                  Mean: 655.271 |                  Median: 561.5\n",
      "[NeMo I 2023-09-06 13:53:42 data_preprocessing:412] 75 percentile: 893.50\n",
      "[NeMo I 2023-09-06 13:53:42 data_preprocessing:413] 99 percentile: 1878.01\n"
     ]
    },
    {
     "name": "stderr",
     "output_type": "stream",
     "text": [
      "100%|██████████| 1513/1513 [04:59<00:00,  5.05batch/s]\n"
     ]
    },
    {
     "name": "stdout",
     "output_type": "stream",
     "text": [
      "[NeMo I 2023-09-06 14:00:12 punctuation_capitalization_infer_dataset:127] Max length: 64\n",
      "[NeMo I 2023-09-06 14:00:12 data_preprocessing:404] Some stats of the lengths of the sequences:\n",
      "[NeMo I 2023-09-06 14:00:12 data_preprocessing:406] Min: 90 |                  Max: 4013 |                  Mean: 763.59 |                  Median: 668.5\n",
      "[NeMo I 2023-09-06 14:00:12 data_preprocessing:412] 75 percentile: 1014.50\n",
      "[NeMo I 2023-09-06 14:00:12 data_preprocessing:413] 99 percentile: 2396.20\n"
     ]
    },
    {
     "name": "stderr",
     "output_type": "stream",
     "text": [
      "100%|██████████| 1783/1783 [05:53<00:00,  5.05batch/s]\n"
     ]
    },
    {
     "name": "stdout",
     "output_type": "stream",
     "text": [
      "[NeMo I 2023-09-06 14:07:49 punctuation_capitalization_infer_dataset:127] Max length: 64\n",
      "[NeMo I 2023-09-06 14:07:49 data_preprocessing:404] Some stats of the lengths of the sequences:\n",
      "[NeMo I 2023-09-06 14:07:49 data_preprocessing:406] Min: 110 |                  Max: 4551 |                  Mean: 804.213 |                  Median: 693.0\n",
      "[NeMo I 2023-09-06 14:07:49 data_preprocessing:412] 75 percentile: 1051.25\n",
      "[NeMo I 2023-09-06 14:07:49 data_preprocessing:413] 99 percentile: 2583.42\n"
     ]
    },
    {
     "name": "stderr",
     "output_type": "stream",
     "text": [
      "100%|██████████| 1885/1885 [06:13<00:00,  5.05batch/s]\n"
     ]
    },
    {
     "name": "stdout",
     "output_type": "stream",
     "text": [
      "[NeMo I 2023-09-06 14:15:40 punctuation_capitalization_infer_dataset:127] Max length: 64\n",
      "[NeMo I 2023-09-06 14:15:40 data_preprocessing:404] Some stats of the lengths of the sequences:\n",
      "[NeMo I 2023-09-06 14:15:40 data_preprocessing:406] Min: 97 |                  Max: 4518 |                  Mean: 734.15 |                  Median: 602.0\n",
      "[NeMo I 2023-09-06 14:15:40 data_preprocessing:412] 75 percentile: 932.00\n",
      "[NeMo I 2023-09-06 14:15:40 data_preprocessing:413] 99 percentile: 2657.08\n"
     ]
    },
    {
     "name": "stderr",
     "output_type": "stream",
     "text": [
      "100%|██████████| 1710/1710 [05:38<00:00,  5.05batch/s]\n"
     ]
    },
    {
     "name": "stdout",
     "output_type": "stream",
     "text": [
      "[NeMo I 2023-09-06 14:22:56 punctuation_capitalization_infer_dataset:127] Max length: 64\n",
      "[NeMo I 2023-09-06 14:22:56 data_preprocessing:404] Some stats of the lengths of the sequences:\n",
      "[NeMo I 2023-09-06 14:22:56 data_preprocessing:406] Min: 102 |                  Max: 5037 |                  Mean: 795.247 |                  Median: 664.5\n",
      "[NeMo I 2023-09-06 14:22:56 data_preprocessing:412] 75 percentile: 1042.25\n",
      "[NeMo I 2023-09-06 14:22:56 data_preprocessing:413] 99 percentile: 2469.58\n"
     ]
    },
    {
     "name": "stderr",
     "output_type": "stream",
     "text": [
      "100%|██████████| 1863/1863 [06:08<00:00,  5.06batch/s]\n"
     ]
    },
    {
     "name": "stdout",
     "output_type": "stream",
     "text": [
      "[NeMo I 2023-09-06 14:30:37 punctuation_capitalization_infer_dataset:127] Max length: 64\n",
      "[NeMo I 2023-09-06 14:30:37 data_preprocessing:404] Some stats of the lengths of the sequences:\n",
      "[NeMo I 2023-09-06 14:30:37 data_preprocessing:406] Min: 106 |                  Max: 2216 |                  Mean: 666.621 |                  Median: 579.5\n",
      "[NeMo I 2023-09-06 14:30:37 data_preprocessing:412] 75 percentile: 883.75\n",
      "[NeMo I 2023-09-06 14:30:37 data_preprocessing:413] 99 percentile: 1868.30\n"
     ]
    },
    {
     "name": "stderr",
     "output_type": "stream",
     "text": [
      "100%|██████████| 1541/1541 [05:04<00:00,  5.07batch/s]\n"
     ]
    }
   ],
   "source": [
    "it = 0\n",
    "for chunk in pd.read_csv('time_extracted_data.csv', chunksize=1000):\n",
    "    # if it < 2:\n",
    "    #     it += 1\n",
    "    #     continue\n",
    "    chunk['punctuated_text'] = punctuation_model.add_punctuation_capitalization(chunk['text'], batch_size=50)\n",
    "    chunk.to_csv('punctuated_data.csv', mode='a',\n",
    "              header=not os.path.exists('punctuated_data.csv'), index=False)\n",
    "    gc.collect()\n",
    "    it += 1\n",
    "    # if it == 10:\n",
    "    #     break"
   ]
  },
  {
   "cell_type": "code",
   "execution_count": null,
   "metadata": {
    "colab": {
     "base_uri": "https://localhost:8080/"
    },
    "id": "5am3-mHzrVaP",
    "outputId": "6e184e6d-d1e5-433a-befc-125fa7fed7c5"
   },
   "outputs": [
    {
     "name": "stdout",
     "output_type": "stream",
     "text": [
      "updating: punctuated_data.csv (deflated 79%)\n"
     ]
    }
   ],
   "source": [
    "!zip $base_dir\"punctuated_data.zip\" \"punctuated_data.csv\""
   ]
  },
  {
   "cell_type": "markdown",
   "metadata": {
    "id": "VvMXXaMaNpEd"
   },
   "source": [
    "### Select sentences with action verbs"
   ]
  },
  {
   "cell_type": "code",
   "execution_count": null,
   "metadata": {
    "colab": {
     "base_uri": "https://localhost:8080/"
    },
    "id": "WbT-Oqe249Vt",
    "outputId": "56f2dfbf-1301-42de-dff8-1544c8a5143a"
   },
   "outputs": [
    {
     "name": "stdout",
     "output_type": "stream",
     "text": [
      "Archive:  drive/MyDrive/University/01022-Final-Project/punctuated_data.zip\n",
      "  inflating: punctuated_data.csv     \n"
     ]
    }
   ],
   "source": [
    "!unzip $base_dir\"punctuated_data.zip\""
   ]
  },
  {
   "cell_type": "code",
   "execution_count": null,
   "metadata": {
    "id": "dddmQ2mJoqd8"
   },
   "outputs": [],
   "source": [
    "task_id_path = base_dir + 'task_ids.csv'\n",
    "\n",
    "def get_action_verbs(path):\n",
    "    action_verbs = []\n",
    "    with open(path, 'r') as f:\n",
    "        csvreader = csv.reader(f)\n",
    "\n",
    "        for row in csvreader:\n",
    "            res = re.sub(r'\\d', '', row[0])\n",
    "            res = re.sub('\\t', '', res)\n",
    "            res = ' '.join(res.split(' '))\n",
    "\n",
    "            action_verbs.append(res.lower())\n",
    "\n",
    "    return action_verbs\n",
    "\n",
    "\n",
    "action_verbs = get_action_verbs(task_id_path)\n",
    "action_verbs = set(action_verbs)"
   ]
  },
  {
   "cell_type": "code",
   "execution_count": null,
   "metadata": {
    "colab": {
     "base_uri": "https://localhost:8080/"
    },
    "id": "1nwWnCMpiDgQ",
    "outputId": "ea38c895-6d59-4ca6-c741-d122c28c3df9"
   },
   "outputs": [
    {
     "name": "stderr",
     "output_type": "stream",
     "text": [
      "9000it [07:18, 20.51it/s]\n"
     ]
    }
   ],
   "source": [
    "with tqdm() as progress_bar:\n",
    "    it = 0\n",
    "    for data_chunk in pd.read_csv('punctuated_data.csv', chunksize=1000):\n",
    "        # if it < 2:\n",
    "        #     it += 1000\n",
    "        #     continue\n",
    "        for text in data_chunk['punctuated_text']:\n",
    "            sentences = nltk.sent_tokenize(text)\n",
    "\n",
    "            key = data_chunk['id'][it]\n",
    "            times_str = data_chunk['times'][it]\n",
    "            times = times_str.strip(\"[]\").split(\", \")\n",
    "            times = [float(x.strip(\"Decimal('')\")) for x in times]\n",
    "            times.sort()\n",
    "\n",
    "            time_index = 0\n",
    "            processed_data = {'id': [], 'start': [], 'end': [], 'sentence': [], 'verb': []}\n",
    "            for sentence in sentences:\n",
    "                try:\n",
    "                    start_time = times[time_index]\n",
    "                except Exception:\n",
    "                    break\n",
    "\n",
    "                time_index += len(sentence.split())\n",
    "\n",
    "                try:\n",
    "                    end_time = times[time_index - 1]\n",
    "                except Exception:\n",
    "                    end_time = start_time + 4\n",
    "\n",
    "                words = nltk.word_tokenize(sentence)\n",
    "                pos_tags = nltk.pos_tag(words)\n",
    "\n",
    "                prv_word = ''\n",
    "                prv_2_word = ''\n",
    "                for word, pos in pos_tags:\n",
    "                    word_2 = prv_word + ' ' + word\n",
    "                    word_3 = prv_2_word + ' ' + word_2\n",
    "                    if pos.startswith('VB') and (word.lower() in action_verbs):\n",
    "                        processed_data['id'].append(key)\n",
    "                        processed_data['start'].append(start_time)\n",
    "                        processed_data['end'].append(end_time)\n",
    "                        processed_data['sentence'].append(sentence)\n",
    "                        processed_data['verb'].append(word)\n",
    "                        break\n",
    "                    if pos.startswith('VB') and (word_2.lower() in action_verbs):\n",
    "                        processed_data['id'].append(key)\n",
    "                        processed_data['start'].append(start_time)\n",
    "                        processed_data['end'].append(end_time)\n",
    "                        processed_data['sentence'].append(sentence)\n",
    "                        processed_data['verb'].append(word_2)\n",
    "                        break\n",
    "                    if pos.startswith('VB') and (word_3.lower() in action_verbs):\n",
    "                        processed_data['id'].append(key)\n",
    "                        processed_data['start'].append(start_time)\n",
    "                        processed_data['end'].append(end_time)\n",
    "                        processed_data['sentence'].append(sentence)\n",
    "                        processed_data['verb'].append(word_3)\n",
    "                        break\n",
    "                    prv_2_word = prv_word\n",
    "                    prv_word = word\n",
    "\n",
    "            df = pd.DataFrame.from_dict(processed_data)\n",
    "            df.to_csv('cleaned_data.csv', mode='a',\n",
    "                        header=not os.path.exists('cleaned_data.csv'), index=False)\n",
    "            progress_bar.update()\n",
    "            it += 1"
   ]
  },
  {
   "cell_type": "code",
   "execution_count": null,
   "metadata": {
    "colab": {
     "base_uri": "https://localhost:8080/"
    },
    "id": "On-sBky75Bbx",
    "outputId": "32879492-ea58-405f-d4d3-d7f4d245f69d"
   },
   "outputs": [
    {
     "name": "stdout",
     "output_type": "stream",
     "text": [
      "updating: cleaned_data.csv (deflated 65%)\n"
     ]
    }
   ],
   "source": [
    "!zip $base_dir\"cleaned_data.zip\" \"cleaned_data.csv\""
   ]
  },
  {
   "cell_type": "markdown",
   "metadata": {
    "id": "w87XJzLG6Sl5"
   },
   "source": [
    "### Data cleaning"
   ]
  },
  {
   "cell_type": "markdown",
   "source": [
    "Convert data to json"
   ],
   "metadata": {
    "id": "DYBFD6gyZ_NY"
   }
  },
  {
   "cell_type": "code",
   "execution_count": null,
   "metadata": {
    "colab": {
     "base_uri": "https://localhost:8080/"
    },
    "id": "5L_BxbHT6bNS",
    "outputId": "8dc65593-dbcf-4b98-e9ab-493143a39b65"
   },
   "outputs": [
    {
     "output_type": "stream",
     "name": "stdout",
     "text": [
      "Archive:  drive/MyDrive/University/01022-Final-Project/cleaned_data.zip\n",
      "replace cleaned_data.csv? [y]es, [n]o, [A]ll, [N]one, [r]ename: y\n",
      "  inflating: cleaned_data.csv        \n"
     ]
    }
   ],
   "source": [
    "!unzip $base_dir\"cleaned_data.zip\"\n",
    "df = pd.read_csv(\"cleaned_data.csv\")"
   ]
  },
  {
   "cell_type": "code",
   "execution_count": null,
   "metadata": {
    "colab": {
     "base_uri": "https://localhost:8080/"
    },
    "id": "Cmf7AapV74Bq",
    "outputId": "d03a421c-7d23-4679-9e03-2477e68b65ce"
   },
   "outputs": [
    {
     "output_type": "stream",
     "name": "stdout",
     "text": [
      "Archive:  drive/MyDrive/University/01022-Final-Project/punctuated_data.zip\n",
      "replace punctuated_data.csv? [y]es, [n]o, [A]ll, [N]one, [r]ename: y\n",
      "  inflating: punctuated_data.csv     \n"
     ]
    }
   ],
   "source": [
    "!unzip $base_dir\"punctuated_data.zip\""
   ]
  },
  {
   "cell_type": "code",
   "execution_count": null,
   "metadata": {
    "id": "DdX3nzxg77Gb"
   },
   "outputs": [],
   "source": [
    "aavdc = dict()\n",
    "for id in pd.read_csv(\"punctuated_data.csv\")['id']:\n",
    "    aavdc[id] = dict()"
   ]
  },
  {
   "cell_type": "code",
   "execution_count": null,
   "metadata": {
    "id": "v764bv4k8uCn"
   },
   "outputs": [],
   "source": [
    "for key in aavdc.keys():\n",
    "    aavdc[key]['sentences'] = []\n",
    "    aavdc[key]['timestamps'] = []\n",
    "    aavdc[key]['verbs'] = []\n",
    "    for index, row in df[df.id == key].iterrows():\n",
    "        aavdc[key]['sentences'].append(row['sentence'])\n",
    "        aavdc[key]['timestamps'].append([row['start'], row['end']])\n",
    "        aavdc[key]['verbs'].append(row['verb'])\n"
   ]
  },
  {
   "cell_type": "markdown",
   "metadata": {
    "id": "CCs5_NHmDc-A"
   },
   "source": [
    "Normalize"
   ]
  },
  {
   "cell_type": "code",
   "execution_count": null,
   "metadata": {
    "id": "J2um7YDQ9r7z"
   },
   "outputs": [],
   "source": [
    "def normalize_clean(text):\n",
    "    text = text.lower()\n",
    "\n",
    "    words = nltk.word_tokenize(text)\n",
    "    words = [word for word in words if word.isalpha()]\n",
    "\n",
    "    # stopwords = nltk.corpus.stopwords.words('english')\n",
    "    # words = [word for word in words if word not in stopwords]\n",
    "\n",
    "    # lemmatizer = nltk.stem.WordNetLemmatizer()\n",
    "    # words = [lemmatizer.lemmatize(word) for word in words]\n",
    "\n",
    "    return ' '.join(words)"
   ]
  },
  {
   "cell_type": "code",
   "execution_count": null,
   "metadata": {
    "id": "NatpWy4c9S7D"
   },
   "outputs": [],
   "source": [
    "for key in aavdc.keys():\n",
    "    clean_sentences = []\n",
    "    for sentence in aavdc[key]['sentences']:\n",
    "        clean_sentences.append(normalize_clean(sentence))\n",
    "    aavdc[key]['sentences'] = clean_sentences"
   ]
  },
  {
   "cell_type": "markdown",
   "source": [
    "Extract and add durations"
   ],
   "metadata": {
    "id": "EWqMUw2ibdNh"
   }
  },
  {
   "cell_type": "code",
   "source": [
    "video_urls = list(pd.read_csv(base_dir + 'cooking_video_urls.csv')['keys'])\n",
    "video_urls[:5]"
   ],
   "metadata": {
    "colab": {
     "base_uri": "https://localhost:8080/"
    },
    "id": "PxgaDiQHiVBK",
    "outputId": "7a645a97-a2ea-4f8e-f769-a249d4f5846d"
   },
   "execution_count": null,
   "outputs": [
    {
     "output_type": "execute_result",
     "data": {
      "text/plain": [
       "['http://howto100m.inria.fr/dataset/mt2DcsJFqAY.mp4',\n",
       " 'http://howto100m.inria.fr/dataset/nxj62Bl2rrs.mp4',\n",
       " 'http://howto100m.inria.fr/dataset/7nBXRFZ67FA.mp4',\n",
       " 'http://howto100m.inria.fr/dataset/5mnuzOnJk3s.mp4',\n",
       " 'http://howto100m.inria.fr/dataset/HND7Ekp8fnM.mp4']"
      ]
     },
     "metadata": {},
     "execution_count": 12
    }
   ]
  },
  {
   "cell_type": "code",
   "source": [
    "video_keys = aavdc.keys()\n",
    "\n",
    "durations = {}\n",
    "with open(base_dir + 'durations.json') as json_file:\n",
    "    durations = json.load(json_file)\n",
    "\n",
    "for i in tqdm(range(10000)):\n",
    "    vid = video_urls[i]\n",
    "    key = video_keys[i]\n",
    "\n",
    "    if not key in durations:\n",
    "        res = !ffprobe -v error -show_entries format=duration -of default=noprint_wrappers=1:nokey=1 -headers 'Authorization: Basic XXX' $vid\n",
    "        durations[key] = float(res[0])\n",
    "\n",
    "        if i % 500 == 499:\n",
    "            with open(base_dir + \"durations.json\", \"w\") as outfile:\n",
    "                json.dump(durations, outfile)"
   ],
   "metadata": {
    "id": "eTAH4PCoiuxr"
   },
   "execution_count": null,
   "outputs": []
  },
  {
   "cell_type": "code",
   "source": [
    "with open(base_dir + \"durations.json\") as json_file:\n",
    "    durations = json.load(json_file)"
   ],
   "metadata": {
    "id": "j4vJB52nbjiZ"
   },
   "execution_count": null,
   "outputs": []
  },
  {
   "cell_type": "code",
   "source": [
    "for key in aavdc.keys():\n",
    "    aavdc[key]['duration'] = durations[key]"
   ],
   "metadata": {
    "id": "yYF8NQ2AblOU"
   },
   "execution_count": null,
   "outputs": []
  },
  {
   "cell_type": "markdown",
   "source": [
    "Save"
   ],
   "metadata": {
    "id": "cqCLMXOCb1HC"
   }
  },
  {
   "cell_type": "code",
   "source": [
    "with open(base_dir + \"aavdc_10k.json\", \"w\") as outfile:\n",
    "    json.dump(aavdc, outfile)"
   ],
   "metadata": {
    "id": "JkuA6_EHbvKV"
   },
   "execution_count": null,
   "outputs": []
  },
  {
   "cell_type": "markdown",
   "metadata": {
    "id": "mETimXe1Dg9d"
   },
   "source": [
    "### Extract vocabulary"
   ]
  },
  {
   "cell_type": "code",
   "source": [
    "aavdc = json.load(open(base_dir + 'aavdc_10k.json'))"
   ],
   "metadata": {
    "id": "5_xHQv_3cl8W"
   },
   "execution_count": null,
   "outputs": []
  },
  {
   "cell_type": "code",
   "execution_count": null,
   "metadata": {
    "id": "VJxenosZA3f8"
   },
   "outputs": [],
   "source": [
    "def corpus_to_vocab(corpus):\n",
    "    \"\"\"\n",
    "    Takes a corpus (list of documents) and converts\n",
    "    it to two dictionaries:\n",
    "      - word_to_ix: key are words in vocab, values\n",
    "        are the unique indices\n",
    "      - ix_to_word: key are the unique indices,\n",
    "        values are the words in vocab\n",
    "    \"\"\"\n",
    "    word_to_ix, ix_to_word = {}, {}\n",
    "    ix = 0\n",
    "    for document in corpus:\n",
    "        for word in document:\n",
    "            if word not in word_to_ix.keys():\n",
    "                word_to_ix[word], ix_to_word[ix] = ix, word\n",
    "                ix += 1\n",
    "    return word_to_ix, ix_to_word"
   ]
  },
  {
   "cell_type": "code",
   "execution_count": null,
   "metadata": {
    "id": "bi9M2roL_eEE"
   },
   "outputs": [],
   "source": [
    "corpus = list()\n",
    "for key in aavdc.keys():\n",
    "    for sentence in aavdc[key]['sentences']:\n",
    "        corpus.append(sentence.split())\n",
    "\n",
    "word_to_ix, ix_to_word = corpus_to_vocab(corpus)\n",
    "vocabulary_aavdc = {'ix_to_word': ix_to_word, 'word_to_ix': word_to_ix}"
   ]
  },
  {
   "cell_type": "code",
   "execution_count": null,
   "metadata": {
    "id": "FHJ1_oFYCn25"
   },
   "outputs": [],
   "source": [
    "with open(base_dir + \"vocabulary_aavdc.json\", \"w\") as outfile:\n",
    "    json.dump(vocabulary_aavdc, outfile)"
   ]
  },
  {
   "cell_type": "markdown",
   "metadata": {
    "id": "x0lWO3g8EDmk"
   },
   "source": [
    "### Convert data to GVL format"
   ]
  },
  {
   "cell_type": "code",
   "source": [
    "aavdc = json.load(open(base_dir + 'aavdc_10k.json'))"
   ],
   "metadata": {
    "id": "eOqznC_ndPgJ"
   },
   "execution_count": null,
   "outputs": []
  },
  {
   "cell_type": "code",
   "execution_count": null,
   "metadata": {
    "id": "aaqweYv9DaNy"
   },
   "outputs": [],
   "source": [
    "aavdc_train = dict(list(aavdc.items())[:8000])\n",
    "aavdc_val = dict(list(aavdc.items())[8000:])"
   ]
  },
  {
   "cell_type": "code",
   "execution_count": null,
   "metadata": {
    "id": "OgDyhs0fEacC"
   },
   "outputs": [],
   "source": [
    "with open(base_dir + \"captiondata/grounding/aavdc_val_for_grounding.json\", \"w\") as outfile:\n",
    "    json.dump(aavdc_val, outfile)"
   ]
  },
  {
   "cell_type": "code",
   "execution_count": null,
   "metadata": {
    "id": "6nGP60AKEFzu"
   },
   "outputs": [],
   "source": [
    "train_keys = list(aavdc_train.keys())\n",
    "for key in train_keys:\n",
    "    aavdc_train['v_' + key] = aavdc_train[key]\n",
    "    del aavdc_train[key]\n",
    "\n",
    "val_keys = list(aavdc_val.keys())\n",
    "for key in val_keys:\n",
    "    aavdc_val['v_' + key] = aavdc_val[key]\n",
    "    del aavdc_val[key]"
   ]
  },
  {
   "cell_type": "code",
   "execution_count": null,
   "metadata": {
    "id": "tfh7V42hEvvo"
   },
   "outputs": [],
   "source": [
    "with open(base_dir + \"captiondata/aavdc_train.json\", \"w\") as outfile:\n",
    "    json.dump(aavdc_train, outfile)\n",
    "\n",
    "with open(base_dir + \"captiondata/aavdc_val.json\", \"w\") as outfile:\n",
    "    json.dump(aavdc_val, outfile)"
   ]
  },
  {
   "cell_type": "code",
   "execution_count": null,
   "metadata": {
    "id": "7dT2f158FLQq"
   },
   "outputs": [],
   "source": [
    "import json\n",
    "\n",
    "p = base_dir + 'captiondata/aavdc_val.json'\n",
    "out_p = base_dir + 'captiondata/para/para_aavdc_val.json'\n",
    "\n",
    "d = json.load(open(p))\n",
    "out = {}\n",
    "for k,v in d.items():\n",
    "    para = '. '.join(v['sentences'])\n",
    "    out[k] = para\n",
    "json.dump(out, open(out_p, 'w'))"
   ]
  },
  {
   "cell_type": "markdown",
   "metadata": {
    "id": "-BaPGAQfSG5H"
   },
   "source": [
    "## Download HowTo100M videos s3d features"
   ]
  },
  {
   "cell_type": "code",
   "execution_count": null,
   "metadata": {
    "colab": {
     "base_uri": "https://localhost:8080/"
    },
    "id": "9OQ-eBsYT4Rv",
    "outputId": "998b2f0f-3f2c-4751-ad5a-413c48b59de8"
   },
   "outputs": [
    {
     "output_type": "execute_result",
     "data": {
      "text/plain": [
       "['howto100m_s3d_features/mt2DcsJFqAY.mp4.npy',\n",
       " 'howto100m_s3d_features/nxj62Bl2rrs.mp4.npy',\n",
       " 'howto100m_s3d_features/7nBXRFZ67FA.mp4.npy',\n",
       " 'howto100m_s3d_features/5mnuzOnJk3s.mp4.npy',\n",
       " 'howto100m_s3d_features/HND7Ekp8fnM.mp4.npy']"
      ]
     },
     "metadata": {},
     "execution_count": 4
    }
   ],
   "source": [
    "video_paths = list(pd.read_csv(base_dir + 'cooking_video_feature_paths.csv')['keys'])\n",
    "video_paths[:5]"
   ]
  },
  {
   "cell_type": "code",
   "execution_count": null,
   "metadata": {
    "id": "GC0RGN99VZKk"
   },
   "outputs": [],
   "source": [
    "with rz.RemoteZip('https://howto100m.inria.fr/howto100m_s3d_features/howto100m_s3d_features.zip', verify=False) as zip:\n",
    "    print(zip.namelist()[0:5])\n",
    "    for file_to_extract in tqdm(video_paths):\n",
    "        if os.path.isfile(base_dir + 'videos/' + file_to_extract):\n",
    "            continue\n",
    "        try:\n",
    "            zip.extract(file_to_extract, path=base_dir+'videos')\n",
    "        except Exception:\n",
    "            zip.extract(file_to_extract.replace(\".mp4.\", \".webm.\"), path=base_dir+'videos')"
   ]
  },
  {
   "cell_type": "code",
   "execution_count": null,
   "metadata": {
    "id": "i8LqWgyKG4Dy"
   },
   "outputs": [],
   "source": [
    "import os\n",
    "\n",
    "dir = base_dir + 'videos/howto100m_s3d_features/'\n",
    "\n",
    "for f in os.listdir(dir):\n",
    "    f_name, f_ext = os.path.splitext(f)\n",
    "    f_name = f_name + f_ext\n",
    "    f_name = f_name.replace(\".mp4.npy\", \".npy\")\n",
    "    f_name = f_name.replace(\".webm.npy\", \".npy\")\n",
    "    os.rename(os.path.join(dir, f), os.path.join(dir, f_name))"
   ]
  },
  {
   "cell_type": "code",
   "execution_count": null,
   "metadata": {
    "colab": {
     "base_uri": "https://localhost:8080/"
    },
    "id": "bWhMj8fJKIe_",
    "outputId": "3a0392c8-17fc-4745-a883-46083e2e7cdb"
   },
   "outputs": [
    {
     "name": "stdout",
     "output_type": "stream",
     "text": [
      "File count: 10000\n",
      "Size: 5822.0 MB\n"
     ]
    }
   ],
   "source": [
    "dir = base_dir + 'videos/howto100m_s3d_features/'\n",
    "count = 0\n",
    "# Iterate directory\n",
    "for path in os.listdir(dir):\n",
    "    # check if current path is a file\n",
    "    if os.path.isfile(os.path.join(dir, path)):\n",
    "        count += 1\n",
    "print('File count:', count)\n",
    "\n",
    "def get_size(start_path = dir):\n",
    "    total_size = 0\n",
    "    for dirpath, dirnames, filenames in os.walk(start_path):\n",
    "        for f in filenames:\n",
    "            fp = os.path.join(dirpath, f)\n",
    "            # skip if it is symbolic link\n",
    "            if not os.path.islink(fp):\n",
    "                total_size += os.path.getsize(fp)\n",
    "\n",
    "    return total_size\n",
    "\n",
    "print(\"Size:\", get_size()//1e6, 'MB')"
   ]
  }
 ],
 "metadata": {
  "colab": {
   "collapsed_sections": [
    "jF_LoUR6xB0D",
    "GJi5bZa0lX7b",
    "zDUJIRCC7GDA",
    "RnGopUlslcKo",
    "CgdAzMPtirGI",
    "ujepfixF7ymN",
    "ubqjU2bBpA2o",
    "3cvlF5CfqRjK",
    "VvMXXaMaNpEd",
    "w87XJzLG6Sl5",
    "mETimXe1Dg9d",
    "x0lWO3g8EDmk",
    "-BaPGAQfSG5H"
   ],
   "provenance": []
  },
  "kernelspec": {
   "display_name": "Python 3",
   "name": "python3"
  },
  "language_info": {
   "name": "python"
  }
 },
 "nbformat": 4,
 "nbformat_minor": 0
}
